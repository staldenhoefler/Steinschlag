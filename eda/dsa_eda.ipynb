{
 "cells": [
  {
   "cell_type": "markdown",
   "source": [
    "# Explorative Datenanalyse"
   ],
   "metadata": {
    "collapsed": false,
    "pycharm": {
     "name": "#%% md\n"
    }
   }
  },
  {
   "cell_type": "markdown",
   "source": [
    "Import Librarys"
   ],
   "metadata": {
    "collapsed": false,
    "pycharm": {
     "name": "#%% md\n"
    }
   }
  },
  {
   "cell_type": "code",
   "execution_count": 84,
   "outputs": [],
   "source": [
    "import pandas as pd\n",
    "import os\n",
    "import matplotlib.pyplot as plt"
   ],
   "metadata": {
    "collapsed": false,
    "pycharm": {
     "name": "#%%\n"
    }
   }
  },
  {
   "cell_type": "markdown",
   "source": [
    "# Import data"
   ],
   "metadata": {
    "collapsed": false,
    "pycharm": {
     "name": "#%% md\n"
    }
   }
  },
  {
   "cell_type": "code",
   "execution_count": 85,
   "outputs": [],
   "source": [
    "abloeseZone1Raw = pd.read_csv('..\\data\\out_1.csv')\n",
    "abloeseZone2Raw = pd.read_csv('..\\data\\out_2.csv')"
   ],
   "metadata": {
    "collapsed": false,
    "pycharm": {
     "name": "#%%\n"
    }
   }
  },
  {
   "cell_type": "markdown",
   "source": [
    "Erste inspektion der Daten"
   ],
   "metadata": {
    "collapsed": false,
    "pycharm": {
     "name": "#%% md\n"
    }
   }
  },
  {
   "cell_type": "code",
   "execution_count": 86,
   "outputs": [
    {
     "name": "stdout",
     "output_type": "stream",
     "text": [
      "        Datum Uhrzeit  Masse [kg]  Geschwindigkeit [m/s]  Unnamed: 4  \\\n",
      "0  2019-01-01   09:00       194.0                    8.4         NaN   \n",
      "1  2019-01-01   21:00       224.0                    8.8         NaN   \n",
      "2  2019-01-02   14:00      3104.0                    9.2         NaN   \n",
      "3  2019-01-04   15:00       228.0                    8.0         NaN   \n",
      "4  2019-01-05   23:00       755.0                    7.0         NaN   \n",
      "\n",
      "   Unnamed: 5  Unnamed: 6  Unnamed: 7  Unnamed: 8  Unnamed: 9  ...  \\\n",
      "0         NaN         NaN         NaN         NaN         NaN  ...   \n",
      "1         NaN         NaN         NaN         NaN         NaN  ...   \n",
      "2         NaN         NaN         NaN         NaN         NaN  ...   \n",
      "3         NaN         NaN         NaN         NaN         NaN  ...   \n",
      "4         NaN         NaN         NaN         NaN         NaN  ...   \n",
      "\n",
      "   Unnamed: 67  Unnamed: 68  Unnamed: 69  Unnamed: 70  Unnamed: 71  \\\n",
      "0          NaN          NaN          NaN          NaN          NaN   \n",
      "1          NaN          NaN          NaN          NaN          NaN   \n",
      "2          NaN          NaN          NaN          NaN          NaN   \n",
      "3          NaN          NaN          NaN          NaN          NaN   \n",
      "4          NaN          NaN          NaN          NaN          NaN   \n",
      "\n",
      "   Unnamed: 72  Unnamed: 73  Unnamed: 74  Unnamed: 75  Unnamed: 76  \n",
      "0          NaN          NaN          NaN          NaN          NaN  \n",
      "1          NaN          NaN          NaN          NaN          NaN  \n",
      "2          NaN          NaN          NaN          NaN          NaN  \n",
      "3          NaN          NaN          NaN          NaN          NaN  \n",
      "4          NaN          NaN          NaN          NaN          NaN  \n",
      "\n",
      "[5 rows x 77 columns]\n",
      "         Date Uhrzeit  m [kg]  v [m/s]  Unnamed: 4  Unnamed: 5  Unnamed: 6  \\\n",
      "0  2019-01-01   09:00    38.0     45.4         NaN         NaN         NaN   \n",
      "1  2019-01-03   06:00   187.0     41.6         NaN         NaN         NaN   \n",
      "2  2019-01-04   10:00    36.0     44.6         NaN         NaN         NaN   \n",
      "3  2019-01-07   14:00     6.0     41.2         NaN         NaN         NaN   \n",
      "4  2019-01-11   06:00    65.0     39.6         NaN         NaN         NaN   \n",
      "\n",
      "   Unnamed: 7  Unnamed: 8  Unnamed: 9  ...  Unnamed: 21  Unnamed: 22  \\\n",
      "0         NaN         NaN         NaN  ...          NaN          NaN   \n",
      "1         NaN         NaN         NaN  ...          NaN          NaN   \n",
      "2         NaN         NaN         NaN  ...          NaN          NaN   \n",
      "3         NaN         NaN         NaN  ...          NaN          NaN   \n",
      "4         NaN         NaN         NaN  ...          NaN          NaN   \n",
      "\n",
      "   Unnamed: 23  Unnamed: 24  Unnamed: 25  Unnamed: 26  Unnamed: 27  \\\n",
      "0          NaN          NaN          NaN          NaN          NaN   \n",
      "1          NaN          NaN          NaN          NaN          NaN   \n",
      "2          NaN          NaN          NaN          NaN          NaN   \n",
      "3          NaN          NaN          NaN          NaN          NaN   \n",
      "4          NaN          NaN          NaN          NaN          NaN   \n",
      "\n",
      "   Unnamed: 28  Unnamed: 29  Unnamed: 30  \n",
      "0          NaN          NaN          NaN  \n",
      "1          NaN          NaN          NaN  \n",
      "2          NaN          NaN          NaN  \n",
      "3          NaN          NaN          NaN  \n",
      "4          NaN          NaN          NaN  \n",
      "\n",
      "[5 rows x 31 columns]\n"
     ]
    }
   ],
   "source": [
    "print(abloeseZone1Raw.head())\n",
    "print(abloeseZone2Raw.head())"
   ],
   "metadata": {
    "collapsed": false,
    "pycharm": {
     "name": "#%%\n"
    }
   }
  },
  {
   "cell_type": "markdown",
   "source": [
    "## Die überfüssigen Spalten bereinigen"
   ],
   "metadata": {
    "collapsed": false,
    "pycharm": {
     "name": "#%% md\n"
    }
   }
  },
  {
   "cell_type": "code",
   "execution_count": 87,
   "outputs": [],
   "source": [
    "abloeseZone1 = abloeseZone1Raw[[\"Datum\", \"Uhrzeit\", \"Masse [kg]\", \"Geschwindigkeit [m/s]\"]]\n",
    "abloeseZone2 = abloeseZone2Raw[[\"Date\", \"Uhrzeit\", \"m [kg]\", \"v [m/s]\"]]"
   ],
   "metadata": {
    "collapsed": false,
    "pycharm": {
     "name": "#%%\n"
    }
   }
  },
  {
   "cell_type": "markdown",
   "source": [
    "Inspektion"
   ],
   "metadata": {
    "collapsed": false,
    "pycharm": {
     "name": "#%% md\n"
    }
   }
  },
  {
   "cell_type": "code",
   "execution_count": 88,
   "outputs": [
    {
     "name": "stdout",
     "output_type": "stream",
     "text": [
      "        Datum Uhrzeit  Masse [kg]  Geschwindigkeit [m/s]\n",
      "0  2019-01-01   09:00       194.0                    8.4\n",
      "1  2019-01-01   21:00       224.0                    8.8\n",
      "2  2019-01-02   14:00      3104.0                    9.2\n",
      "3  2019-01-04   15:00       228.0                    8.0\n",
      "4  2019-01-05   23:00       755.0                    7.0\n",
      "         Date Uhrzeit  m [kg]  v [m/s]\n",
      "0  2019-01-01   09:00    38.0     45.4\n",
      "1  2019-01-03   06:00   187.0     41.6\n",
      "2  2019-01-04   10:00    36.0     44.6\n",
      "3  2019-01-07   14:00     6.0     41.2\n",
      "4  2019-01-11   06:00    65.0     39.6\n"
     ]
    }
   ],
   "source": [
    "print(abloeseZone1.head())\n",
    "print(abloeseZone2.head())"
   ],
   "metadata": {
    "collapsed": false,
    "pycharm": {
     "name": "#%%\n"
    }
   }
  },
  {
   "cell_type": "markdown",
   "source": [
    "Vereinheitlichung der Spaltennamen"
   ],
   "metadata": {
    "collapsed": false,
    "pycharm": {
     "name": "#%% md\n"
    }
   }
  },
  {
   "cell_type": "code",
   "execution_count": 89,
   "outputs": [
    {
     "name": "stdout",
     "output_type": "stream",
     "text": [
      "        Datum Uhrzeit   Masse  Geschwindikeit\n",
      "0  2019-01-01   09:00   194.0             8.4\n",
      "1  2019-01-01   21:00   224.0             8.8\n",
      "2  2019-01-02   14:00  3104.0             9.2\n",
      "3  2019-01-04   15:00   228.0             8.0\n",
      "4  2019-01-05   23:00   755.0             7.0\n",
      "        Datum Uhrzeit  Masse  Geschwindikeit\n",
      "0  2019-01-01   09:00   38.0            45.4\n",
      "1  2019-01-03   06:00  187.0            41.6\n",
      "2  2019-01-04   10:00   36.0            44.6\n",
      "3  2019-01-07   14:00    6.0            41.2\n",
      "4  2019-01-11   06:00   65.0            39.6\n"
     ]
    }
   ],
   "source": [
    "abloeseZone1.columns=[\"Datum\", \"Uhrzeit\", \"Masse\", \"Geschwindikeit\"]\n",
    "abloeseZone2.columns=[\"Datum\", \"Uhrzeit\", \"Masse\", \"Geschwindikeit\"]\n",
    "print(abloeseZone1.head())\n",
    "print(abloeseZone2.head())"
   ],
   "metadata": {
    "collapsed": false,
    "pycharm": {
     "name": "#%%\n"
    }
   }
  },
  {
   "cell_type": "markdown",
   "source": [
    "## Fehlende Daten"
   ],
   "metadata": {
    "collapsed": false,
    "pycharm": {
     "name": "#%% md\n"
    }
   }
  },
  {
   "cell_type": "code",
   "execution_count": 90,
   "outputs": [
    {
     "name": "stdout",
     "output_type": "stream",
     "text": [
      "Datum             11\n",
      "Uhrzeit           11\n",
      "Masse             11\n",
      "Geschwindikeit    11\n",
      "dtype: int64\n",
      "Datum             3\n",
      "Uhrzeit           3\n",
      "Masse             3\n",
      "Geschwindikeit    3\n",
      "dtype: int64\n"
     ]
    }
   ],
   "source": [
    "print(abloeseZone1.isna().sum())\n",
    "print(abloeseZone2.isna().sum())"
   ],
   "metadata": {
    "collapsed": false,
    "pycharm": {
     "name": "#%%\n"
    }
   }
  },
  {
   "cell_type": "code",
   "execution_count": 91,
   "outputs": [
    {
     "name": "stdout",
     "output_type": "stream",
     "text": [
      "Datum             0\n",
      "Uhrzeit           0\n",
      "Masse             0\n",
      "Geschwindikeit    0\n",
      "dtype: int64\n",
      "Datum             0\n",
      "Uhrzeit           0\n",
      "Masse             0\n",
      "Geschwindikeit    0\n",
      "dtype: int64\n"
     ]
    }
   ],
   "source": [
    "abloeseZone1 = abloeseZone1.dropna()\n",
    "abloeseZone2 = abloeseZone2.dropna()\n",
    "print(abloeseZone1.isna().sum())\n",
    "print(abloeseZone2.isna().sum())"
   ],
   "metadata": {
    "collapsed": false,
    "pycharm": {
     "name": "#%%\n"
    }
   }
  },
  {
   "cell_type": "code",
   "execution_count": 91,
   "outputs": [],
   "source": [],
   "metadata": {
    "collapsed": false,
    "pycharm": {
     "name": "#%%\n"
    }
   }
  }
 ],
 "metadata": {
  "kernelspec": {
   "display_name": "Python 3",
   "language": "python",
   "name": "python3"
  },
  "language_info": {
   "codemirror_mode": {
    "name": "ipython",
    "version": 2
   },
   "file_extension": ".py",
   "mimetype": "text/x-python",
   "name": "python",
   "nbconvert_exporter": "python",
   "pygments_lexer": "ipython2",
   "version": "2.7.6"
  }
 },
 "nbformat": 4,
 "nbformat_minor": 0
}