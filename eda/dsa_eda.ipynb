{
 "cells": [
  {
   "cell_type": "markdown",
   "source": [
    "# Explorative Datenanalyse"
   ],
   "metadata": {
    "collapsed": false,
    "pycharm": {
     "name": "#%% md\n"
    }
   }
  },
  {
   "cell_type": "markdown",
   "source": [
    "Import Librarys"
   ],
   "metadata": {
    "collapsed": false,
    "pycharm": {
     "name": "#%% md\n"
    }
   }
  },
  {
   "cell_type": "code",
   "execution_count": 228,
   "outputs": [],
   "source": [
    "import pandas as pd\n",
    "import os\n",
    "import matplotlib.pyplot as plt\n",
    "import seaborn as sns"
   ],
   "metadata": {
    "collapsed": false,
    "pycharm": {
     "name": "#%%\n"
    }
   }
  },
  {
   "cell_type": "markdown",
   "source": [
    "# Import data"
   ],
   "metadata": {
    "collapsed": false,
    "pycharm": {
     "name": "#%% md\n"
    }
   }
  },
  {
   "cell_type": "code",
   "execution_count": 229,
   "outputs": [],
   "source": [
    "abloeseZone1Raw = pd.read_csv('..\\data\\out_1.csv')\n",
    "abloeseZone2Raw = pd.read_csv('..\\data\\out_2.csv')"
   ],
   "metadata": {
    "collapsed": false,
    "pycharm": {
     "name": "#%%\n"
    }
   }
  },
  {
   "cell_type": "markdown",
   "source": [
    "Erste inspektion der Daten"
   ],
   "metadata": {
    "collapsed": false,
    "pycharm": {
     "name": "#%% md\n"
    }
   }
  },
  {
   "cell_type": "code",
   "execution_count": 230,
   "outputs": [
    {
     "name": "stdout",
     "output_type": "stream",
     "text": [
      "        Datum Uhrzeit  Masse [kg]  Geschwindigkeit [m/s]  Unnamed: 4  \\\n",
      "0  2019-01-01   09:00       194.0                    8.4         NaN   \n",
      "1  2019-01-01   21:00       224.0                    8.8         NaN   \n",
      "2  2019-01-02   14:00      3104.0                    9.2         NaN   \n",
      "3  2019-01-04   15:00       228.0                    8.0         NaN   \n",
      "4  2019-01-05   23:00       755.0                    7.0         NaN   \n",
      "\n",
      "   Unnamed: 5  Unnamed: 6  Unnamed: 7  Unnamed: 8  Unnamed: 9  ...  \\\n",
      "0         NaN         NaN         NaN         NaN         NaN  ...   \n",
      "1         NaN         NaN         NaN         NaN         NaN  ...   \n",
      "2         NaN         NaN         NaN         NaN         NaN  ...   \n",
      "3         NaN         NaN         NaN         NaN         NaN  ...   \n",
      "4         NaN         NaN         NaN         NaN         NaN  ...   \n",
      "\n",
      "   Unnamed: 67  Unnamed: 68  Unnamed: 69  Unnamed: 70  Unnamed: 71  \\\n",
      "0          NaN          NaN          NaN          NaN          NaN   \n",
      "1          NaN          NaN          NaN          NaN          NaN   \n",
      "2          NaN          NaN          NaN          NaN          NaN   \n",
      "3          NaN          NaN          NaN          NaN          NaN   \n",
      "4          NaN          NaN          NaN          NaN          NaN   \n",
      "\n",
      "   Unnamed: 72  Unnamed: 73  Unnamed: 74  Unnamed: 75  Unnamed: 76  \n",
      "0          NaN          NaN          NaN          NaN          NaN  \n",
      "1          NaN          NaN          NaN          NaN          NaN  \n",
      "2          NaN          NaN          NaN          NaN          NaN  \n",
      "3          NaN          NaN          NaN          NaN          NaN  \n",
      "4          NaN          NaN          NaN          NaN          NaN  \n",
      "\n",
      "[5 rows x 77 columns]\n",
      "         Date Uhrzeit  m [kg]  v [m/s]  Unnamed: 4  Unnamed: 5  Unnamed: 6  \\\n",
      "0  2019-01-01   09:00    38.0     45.4         NaN         NaN         NaN   \n",
      "1  2019-01-03   06:00   187.0     41.6         NaN         NaN         NaN   \n",
      "2  2019-01-04   10:00    36.0     44.6         NaN         NaN         NaN   \n",
      "3  2019-01-07   14:00     6.0     41.2         NaN         NaN         NaN   \n",
      "4  2019-01-11   06:00    65.0     39.6         NaN         NaN         NaN   \n",
      "\n",
      "   Unnamed: 7  Unnamed: 8  Unnamed: 9  ...  Unnamed: 21  Unnamed: 22  \\\n",
      "0         NaN         NaN         NaN  ...          NaN          NaN   \n",
      "1         NaN         NaN         NaN  ...          NaN          NaN   \n",
      "2         NaN         NaN         NaN  ...          NaN          NaN   \n",
      "3         NaN         NaN         NaN  ...          NaN          NaN   \n",
      "4         NaN         NaN         NaN  ...          NaN          NaN   \n",
      "\n",
      "   Unnamed: 23  Unnamed: 24  Unnamed: 25  Unnamed: 26  Unnamed: 27  \\\n",
      "0          NaN          NaN          NaN          NaN          NaN   \n",
      "1          NaN          NaN          NaN          NaN          NaN   \n",
      "2          NaN          NaN          NaN          NaN          NaN   \n",
      "3          NaN          NaN          NaN          NaN          NaN   \n",
      "4          NaN          NaN          NaN          NaN          NaN   \n",
      "\n",
      "   Unnamed: 28  Unnamed: 29  Unnamed: 30  \n",
      "0          NaN          NaN          NaN  \n",
      "1          NaN          NaN          NaN  \n",
      "2          NaN          NaN          NaN  \n",
      "3          NaN          NaN          NaN  \n",
      "4          NaN          NaN          NaN  \n",
      "\n",
      "[5 rows x 31 columns]\n"
     ]
    }
   ],
   "source": [
    "print(abloeseZone1Raw.head())\n",
    "print(abloeseZone2Raw.head())"
   ],
   "metadata": {
    "collapsed": false,
    "pycharm": {
     "name": "#%%\n"
    }
   }
  },
  {
   "cell_type": "markdown",
   "source": [
    "## Die überfüssigen Spalten bereinigen"
   ],
   "metadata": {
    "collapsed": false,
    "pycharm": {
     "name": "#%% md\n"
    }
   }
  },
  {
   "cell_type": "code",
   "execution_count": 231,
   "outputs": [],
   "source": [
    "abloeseZone1 = abloeseZone1Raw[[\"Datum\", \"Uhrzeit\", \"Masse [kg]\", \"Geschwindigkeit [m/s]\"]]\n",
    "abloeseZone2 = abloeseZone2Raw[[\"Date\", \"Uhrzeit\", \"m [kg]\", \"v [m/s]\"]]"
   ],
   "metadata": {
    "collapsed": false,
    "pycharm": {
     "name": "#%%\n"
    }
   }
  },
  {
   "cell_type": "markdown",
   "source": [
    "Inspektion"
   ],
   "metadata": {
    "collapsed": false,
    "pycharm": {
     "name": "#%% md\n"
    }
   }
  },
  {
   "cell_type": "code",
   "execution_count": 232,
   "outputs": [
    {
     "name": "stdout",
     "output_type": "stream",
     "text": [
      "        Datum Uhrzeit  Masse [kg]  Geschwindigkeit [m/s]\n",
      "0  2019-01-01   09:00       194.0                    8.4\n",
      "1  2019-01-01   21:00       224.0                    8.8\n",
      "2  2019-01-02   14:00      3104.0                    9.2\n",
      "3  2019-01-04   15:00       228.0                    8.0\n",
      "4  2019-01-05   23:00       755.0                    7.0\n",
      "         Date Uhrzeit  m [kg]  v [m/s]\n",
      "0  2019-01-01   09:00    38.0     45.4\n",
      "1  2019-01-03   06:00   187.0     41.6\n",
      "2  2019-01-04   10:00    36.0     44.6\n",
      "3  2019-01-07   14:00     6.0     41.2\n",
      "4  2019-01-11   06:00    65.0     39.6\n"
     ]
    }
   ],
   "source": [
    "print(abloeseZone1.head())\n",
    "print(abloeseZone2.head())"
   ],
   "metadata": {
    "collapsed": false,
    "pycharm": {
     "name": "#%%\n"
    }
   }
  },
  {
   "cell_type": "markdown",
   "source": [
    "Vereinheitlichung der Spaltennamen"
   ],
   "metadata": {
    "collapsed": false,
    "pycharm": {
     "name": "#%% md\n"
    }
   }
  },
  {
   "cell_type": "code",
   "execution_count": 233,
   "outputs": [
    {
     "name": "stdout",
     "output_type": "stream",
     "text": [
      "        Datum Uhrzeit   Masse  Geschwindikeit\n",
      "0  2019-01-01   09:00   194.0             8.4\n",
      "1  2019-01-01   21:00   224.0             8.8\n",
      "2  2019-01-02   14:00  3104.0             9.2\n",
      "3  2019-01-04   15:00   228.0             8.0\n",
      "4  2019-01-05   23:00   755.0             7.0\n",
      "        Datum Uhrzeit  Masse  Geschwindikeit\n",
      "0  2019-01-01   09:00   38.0            45.4\n",
      "1  2019-01-03   06:00  187.0            41.6\n",
      "2  2019-01-04   10:00   36.0            44.6\n",
      "3  2019-01-07   14:00    6.0            41.2\n",
      "4  2019-01-11   06:00   65.0            39.6\n"
     ]
    }
   ],
   "source": [
    "abloeseZone1.columns=[\"Datum\", \"Uhrzeit\", \"Masse\", \"Geschwindikeit\"]\n",
    "abloeseZone2.columns=[\"Datum\", \"Uhrzeit\", \"Masse\", \"Geschwindikeit\"]\n",
    "print(abloeseZone1.head())\n",
    "print(abloeseZone2.head())"
   ],
   "metadata": {
    "collapsed": false,
    "pycharm": {
     "name": "#%%\n"
    }
   }
  },
  {
   "cell_type": "markdown",
   "source": [
    "## Fehlende Daten"
   ],
   "metadata": {
    "collapsed": false,
    "pycharm": {
     "name": "#%% md\n"
    }
   }
  },
  {
   "cell_type": "code",
   "execution_count": 234,
   "outputs": [
    {
     "name": "stdout",
     "output_type": "stream",
     "text": [
      "Datum             11\n",
      "Uhrzeit           11\n",
      "Masse             11\n",
      "Geschwindikeit    11\n",
      "dtype: int64\n",
      "Datum             3\n",
      "Uhrzeit           3\n",
      "Masse             3\n",
      "Geschwindikeit    3\n",
      "dtype: int64\n"
     ]
    }
   ],
   "source": [
    "print(abloeseZone1.isna().sum())\n",
    "print(abloeseZone2.isna().sum())"
   ],
   "metadata": {
    "collapsed": false,
    "pycharm": {
     "name": "#%%\n"
    }
   }
  },
  {
   "cell_type": "code",
   "execution_count": 235,
   "outputs": [
    {
     "name": "stdout",
     "output_type": "stream",
     "text": [
      "Datum             0\n",
      "Uhrzeit           0\n",
      "Masse             0\n",
      "Geschwindikeit    0\n",
      "dtype: int64\n",
      "Datum             0\n",
      "Uhrzeit           0\n",
      "Masse             0\n",
      "Geschwindikeit    0\n",
      "dtype: int64\n"
     ]
    }
   ],
   "source": [
    "abloeseZone1 = abloeseZone1.dropna()\n",
    "abloeseZone2 = abloeseZone2.dropna()\n",
    "print(abloeseZone1.isna().sum())\n",
    "print(abloeseZone2.isna().sum())"
   ],
   "metadata": {
    "collapsed": false,
    "pycharm": {
     "name": "#%%\n"
    }
   }
  },
  {
   "cell_type": "markdown",
   "source": [
    "Datentypen der Spalten anpassen"
   ],
   "metadata": {
    "collapsed": false,
    "pycharm": {
     "name": "#%% md\n"
    }
   }
  },
  {
   "cell_type": "code",
   "execution_count": 236,
   "outputs": [
    {
     "data": {
      "text/plain": "Datum             datetime64[ns]\nUhrzeit                    int64\nMasse                    float64\nGeschwindikeit           float64\ndtype: object"
     },
     "execution_count": 236,
     "metadata": {},
     "output_type": "execute_result"
    }
   ],
   "source": [
    "abloeseZone1[\"Datum\"] = pd.to_datetime(abloeseZone1[\"Datum\"])\n",
    "abloeseZone1[\"Uhrzeit\"] = pd.to_datetime(abloeseZone1[\"Uhrzeit\"]).dt.hour\n",
    "abloeseZone1.dtypes\n",
    "abloeseZone2[\"Datum\"] = pd.to_datetime(abloeseZone2[\"Datum\"])\n",
    "abloeseZone2[\"Uhrzeit\"] = pd.to_datetime(abloeseZone2[\"Uhrzeit\"]).dt.hour\n",
    "abloeseZone2.dtypes"
   ],
   "metadata": {
    "collapsed": false,
    "pycharm": {
     "name": "#%%\n"
    }
   }
  },
  {
   "cell_type": "markdown",
   "source": [
    "Überblick mit .describe()"
   ],
   "metadata": {
    "collapsed": false,
    "pycharm": {
     "name": "#%% md\n"
    }
   }
  },
  {
   "cell_type": "code",
   "execution_count": 237,
   "outputs": [
    {
     "data": {
      "text/plain": "         Uhrzeit        Masse  Geschwindikeit\ncount  68.000000    68.000000       68.000000\nmean   12.970588   628.632353        8.788235\nstd     6.508251   695.884703        1.989189\nmin     0.000000    12.000000        3.600000\n25%     8.750000   214.750000        7.300000\n50%    13.500000   402.500000        8.800000\n75%    18.000000   773.000000       10.125000\nmax    23.000000  3104.000000       14.100000",
      "text/html": "<div>\n<style scoped>\n    .dataframe tbody tr th:only-of-type {\n        vertical-align: middle;\n    }\n\n    .dataframe tbody tr th {\n        vertical-align: top;\n    }\n\n    .dataframe thead th {\n        text-align: right;\n    }\n</style>\n<table border=\"1\" class=\"dataframe\">\n  <thead>\n    <tr style=\"text-align: right;\">\n      <th></th>\n      <th>Uhrzeit</th>\n      <th>Masse</th>\n      <th>Geschwindikeit</th>\n    </tr>\n  </thead>\n  <tbody>\n    <tr>\n      <th>count</th>\n      <td>68.000000</td>\n      <td>68.000000</td>\n      <td>68.000000</td>\n    </tr>\n    <tr>\n      <th>mean</th>\n      <td>12.970588</td>\n      <td>628.632353</td>\n      <td>8.788235</td>\n    </tr>\n    <tr>\n      <th>std</th>\n      <td>6.508251</td>\n      <td>695.884703</td>\n      <td>1.989189</td>\n    </tr>\n    <tr>\n      <th>min</th>\n      <td>0.000000</td>\n      <td>12.000000</td>\n      <td>3.600000</td>\n    </tr>\n    <tr>\n      <th>25%</th>\n      <td>8.750000</td>\n      <td>214.750000</td>\n      <td>7.300000</td>\n    </tr>\n    <tr>\n      <th>50%</th>\n      <td>13.500000</td>\n      <td>402.500000</td>\n      <td>8.800000</td>\n    </tr>\n    <tr>\n      <th>75%</th>\n      <td>18.000000</td>\n      <td>773.000000</td>\n      <td>10.125000</td>\n    </tr>\n    <tr>\n      <th>max</th>\n      <td>23.000000</td>\n      <td>3104.000000</td>\n      <td>14.100000</td>\n    </tr>\n  </tbody>\n</table>\n</div>"
     },
     "execution_count": 237,
     "metadata": {},
     "output_type": "execute_result"
    }
   ],
   "source": [
    "abloeseZone1.describe()"
   ],
   "metadata": {
    "collapsed": false,
    "pycharm": {
     "name": "#%%\n"
    }
   }
  },
  {
   "cell_type": "code",
   "execution_count": 238,
   "outputs": [
    {
     "data": {
      "text/plain": "         Uhrzeit       Masse  Geschwindikeit\ncount  32.000000   32.000000       32.000000\nmean   12.062500   99.250000       37.790625\nstd     6.184984  104.072555        5.395778\nmin     1.000000    0.000000       24.900000\n25%     6.750000   36.750000       33.200000\n50%    11.500000   58.000000       38.750000\n75%    16.250000  140.000000       41.725000\nmax    23.000000  406.000000       46.500000",
      "text/html": "<div>\n<style scoped>\n    .dataframe tbody tr th:only-of-type {\n        vertical-align: middle;\n    }\n\n    .dataframe tbody tr th {\n        vertical-align: top;\n    }\n\n    .dataframe thead th {\n        text-align: right;\n    }\n</style>\n<table border=\"1\" class=\"dataframe\">\n  <thead>\n    <tr style=\"text-align: right;\">\n      <th></th>\n      <th>Uhrzeit</th>\n      <th>Masse</th>\n      <th>Geschwindikeit</th>\n    </tr>\n  </thead>\n  <tbody>\n    <tr>\n      <th>count</th>\n      <td>32.000000</td>\n      <td>32.000000</td>\n      <td>32.000000</td>\n    </tr>\n    <tr>\n      <th>mean</th>\n      <td>12.062500</td>\n      <td>99.250000</td>\n      <td>37.790625</td>\n    </tr>\n    <tr>\n      <th>std</th>\n      <td>6.184984</td>\n      <td>104.072555</td>\n      <td>5.395778</td>\n    </tr>\n    <tr>\n      <th>min</th>\n      <td>1.000000</td>\n      <td>0.000000</td>\n      <td>24.900000</td>\n    </tr>\n    <tr>\n      <th>25%</th>\n      <td>6.750000</td>\n      <td>36.750000</td>\n      <td>33.200000</td>\n    </tr>\n    <tr>\n      <th>50%</th>\n      <td>11.500000</td>\n      <td>58.000000</td>\n      <td>38.750000</td>\n    </tr>\n    <tr>\n      <th>75%</th>\n      <td>16.250000</td>\n      <td>140.000000</td>\n      <td>41.725000</td>\n    </tr>\n    <tr>\n      <th>max</th>\n      <td>23.000000</td>\n      <td>406.000000</td>\n      <td>46.500000</td>\n    </tr>\n  </tbody>\n</table>\n</div>"
     },
     "execution_count": 238,
     "metadata": {},
     "output_type": "execute_result"
    }
   ],
   "source": [
    "abloeseZone2.describe()"
   ],
   "metadata": {
    "collapsed": false,
    "pycharm": {
     "name": "#%%\n"
    }
   }
  },
  {
   "cell_type": "code",
   "execution_count": 239,
   "outputs": [
    {
     "data": {
      "text/plain": "       Datum  Uhrzeit   Masse  Geschwindikeit\n0 2019-01-01        9   194.0             8.4\n1 2019-01-01       21   224.0             8.8\n2 2019-01-02       14  3104.0             9.2\n3 2019-01-04       15   228.0             8.0\n4 2019-01-05       23   755.0             7.0",
      "text/html": "<div>\n<style scoped>\n    .dataframe tbody tr th:only-of-type {\n        vertical-align: middle;\n    }\n\n    .dataframe tbody tr th {\n        vertical-align: top;\n    }\n\n    .dataframe thead th {\n        text-align: right;\n    }\n</style>\n<table border=\"1\" class=\"dataframe\">\n  <thead>\n    <tr style=\"text-align: right;\">\n      <th></th>\n      <th>Datum</th>\n      <th>Uhrzeit</th>\n      <th>Masse</th>\n      <th>Geschwindikeit</th>\n    </tr>\n  </thead>\n  <tbody>\n    <tr>\n      <th>0</th>\n      <td>2019-01-01</td>\n      <td>9</td>\n      <td>194.0</td>\n      <td>8.4</td>\n    </tr>\n    <tr>\n      <th>1</th>\n      <td>2019-01-01</td>\n      <td>21</td>\n      <td>224.0</td>\n      <td>8.8</td>\n    </tr>\n    <tr>\n      <th>2</th>\n      <td>2019-01-02</td>\n      <td>14</td>\n      <td>3104.0</td>\n      <td>9.2</td>\n    </tr>\n    <tr>\n      <th>3</th>\n      <td>2019-01-04</td>\n      <td>15</td>\n      <td>228.0</td>\n      <td>8.0</td>\n    </tr>\n    <tr>\n      <th>4</th>\n      <td>2019-01-05</td>\n      <td>23</td>\n      <td>755.0</td>\n      <td>7.0</td>\n    </tr>\n  </tbody>\n</table>\n</div>"
     },
     "execution_count": 239,
     "metadata": {},
     "output_type": "execute_result"
    }
   ],
   "source": [
    "abloeseZone1.head()"
   ],
   "metadata": {
    "collapsed": false,
    "pycharm": {
     "name": "#%%\n"
    }
   }
  },
  {
   "cell_type": "markdown",
   "source": [
    "## Erste Plots"
   ],
   "metadata": {
    "collapsed": false,
    "pycharm": {
     "name": "#%% md\n"
    }
   }
  },
  {
   "cell_type": "code",
   "execution_count": 242,
   "outputs": [
    {
     "data": {
      "text/plain": "<Figure size 640x480 with 1 Axes>",
      "image/png": "[encoded data removed]"
     },
     "metadata": {},
     "output_type": "display_data"
    }
   ],
   "source": [
    "sns.histplot(data=abloeseZone1, x=\"Uhrzeit\", bins=24)\n",
    "plt.show()"
   ],
   "metadata": {
    "collapsed": false,
    "pycharm": {
     "name": "#%%\n"
    }
   }
  },
  {
   "cell_type": "code",
   "execution_count": 243,
   "outputs": [
    {
     "data": {
      "text/plain": "<Figure size 640x480 with 1 Axes>",
      "image/png": "[encoded data removed]"
     },
     "metadata": {},
     "output_type": "display_data"
    }
   ],
   "source": [
    "sns.histplot(data=abloeseZone2, x=\"Uhrzeit\", bins=24)\n",
    "plt.show()"
   ],
   "metadata": {
    "collapsed": false,
    "pycharm": {
     "name": "#%%\n"
    }
   }
  },
  {
   "cell_type": "code",
   "execution_count": null,
   "outputs": [],
   "source": [],
   "metadata": {
    "collapsed": false,
    "pycharm": {
     "name": "#%%\n"
    }
   }
  }
 ],
 "metadata": {
  "kernelspec": {
   "display_name": "Python 3",
   "language": "python",
   "name": "python3"
  },
  "language_info": {
   "codemirror_mode": {
    "name": "ipython",
    "version": 2
   },
   "file_extension": ".py",
   "mimetype": "text/x-python",
   "name": "python",
   "nbconvert_exporter": "python",
   "pygments_lexer": "ipython2",
   "version": "2.7.6"
  }
 },
 "nbformat": 4,
 "nbformat_minor": 0
}