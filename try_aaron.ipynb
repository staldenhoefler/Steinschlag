{
 "cells": [
  {
   "cell_type": "markdown",
   "source": [
    "# Wrangle"
   ],
   "metadata": {
    "collapsed": false
   }
  },
  {
   "cell_type": "code",
   "execution_count": null,
   "metadata": {
    "collapsed": true
   },
   "outputs": [],
   "source": []
  },
  {
   "cell_type": "markdown",
   "source": [
    "# Analyze and Visualize Time Differences"
   ],
   "metadata": {
    "collapsed": false
   }
  },
  {
   "cell_type": "code",
   "execution_count": null,
   "outputs": [],
   "source": [
    "import matplotlib.pyplot as plt\n",
    "import numpy as np\n",
    "import pandas as pd\n",
    "import scipy\n",
    "from scipy.stats import norm, kstest\n",
    "\n",
    "\n",
    "def load_data(file_name):\n",
    "    return pd.read_csv(file_name, parse_dates=[0]).sort_values(by='date')\n",
    "\n",
    "\n",
    "def get_time_differences(df):\n",
    "    \"\"\"Returns the time differences between rocks in hours.\"\"\"\n",
    "    return df['date'].diff().dt.total_seconds() / 3600\n",
    "\n",
    "\n",
    "def main():\n",
    "    data = load_data(\"data/data.csv\")\n",
    "    data['time_differences'] = get_time_differences(data)\n",
    "    time_differences = data['time_differences'].dropna()\n",
    "    plt.hist(time_differences, bins=np.arange(0, time_differences.max() + 1, 1))\n",
    "    plt.xlabel('Time difference (hours)')\n",
    "    plt.ylabel('Frequency')\n",
    "    plt.title('Distribution of time differences between rocks')\n",
    "    plt.show()\n",
    "\n",
    "    mean = np.mean(time_differences)\n",
    "    median = np.median(time_differences)\n",
    "    mode = np.argmax(np.bincount([int(x) for x in time_differences]))\n",
    "    std_dev = np.std(time_differences)\n",
    "    skewness = scipy.stats.skew(time_differences)\n",
    "    kurtosis = scipy.stats.kurtosis(time_differences)\n",
    "\n",
    "    print(f\"Mean: {mean}, Median: {median}, Mode: {mode}, Standard Deviation: {std_dev}, Skewness: {skewness}, Kurtosis: {kurtosis}\")\n",
    "\n",
    "    # Compare to known distributions (e.g., normal distribution)\n",
    "    normal_dist = norm(loc=mean, scale=std_dev)\n",
    "    ks_result = kstest(time_differences, normal_dist.cdf)\n",
    "\n",
    "    print(f\"Kolmogorov-Smirnov test result: {ks_result}\")\n"
   ],
   "metadata": {
    "collapsed": false
   }
  }
 ],
 "metadata": {
  "kernelspec": {
   "display_name": "Python 3",
   "language": "python",
   "name": "python3"
  },
  "language_info": {
   "codemirror_mode": {
    "name": "ipython",
    "version": 2
   },
   "file_extension": ".py",
   "mimetype": "text/x-python",
   "name": "python",
   "nbconvert_exporter": "python",
   "pygments_lexer": "ipython2",
   "version": "2.7.6"
  }
 },
 "nbformat": 4,
 "nbformat_minor": 0
}
