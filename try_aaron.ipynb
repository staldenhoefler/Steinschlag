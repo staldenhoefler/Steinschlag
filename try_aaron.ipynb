{
 "cells": [
  {
   "cell_type": "markdown",
   "metadata": {
    "collapsed": false
   },
   "source": [
    "# EDA"
   ]
  },
  {
   "cell_type": "code",
   "execution_count": null,
   "metadata": {
    "ExecuteTime": {
     "end_time": "2023-04-21T12:52:24.193086Z",
     "start_time": "2023-04-21T12:52:23.042033Z"
    },
    "collapsed": true
   },
   "outputs": [],
   "source": [
    "import matplotlib.dates as mdates\n",
    "import matplotlib.pyplot as plt\n",
    "import pandas as pd\n",
    "from fitter import Fitter\n",
    "import numpy as np\n",
    "from functions import read_data, add_time_differences, add_energy, reorder_columns, scatter_plot, plot_histogram, show_best_distribution"
   ]
  },
  {
   "cell_type": "code",
   "execution_count": null,
   "metadata": {},
   "outputs": [],
   "source": [
    "data_1 = read_data('data/out_1.csv')\n",
    "data_1['zone'] = 1\n",
    "data_2 = read_data('data/out_2.csv')\n",
    "data_2['zone'] = 2\n",
    "# join the two dataframes and sort by date\n",
    "df = pd.concat([data_1, data_2]).sort_values(by=['date'])\n",
    "# drop the zone column in the original dataframes\n",
    "data_1 = data_1.drop(columns=['zone'])\n",
    "data_2 = data_2.drop(columns=['zone'])\n"
   ]
  },
  {
   "attachments": {},
   "cell_type": "markdown",
   "metadata": {
    "collapsed": false
   },
   "source": [
    "## Time Differences and Energy"
   ]
  },
  {
   "cell_type": "code",
   "execution_count": null,
   "metadata": {
    "ExecuteTime": {
     "end_time": "2023-04-21T12:52:24.250343Z",
     "start_time": "2023-04-21T12:52:24.205904Z"
    },
    "collapsed": false
   },
   "outputs": [],
   "source": [
    "# Add time differences and energy to the dataframes and reorder the columns.\n",
    "# Also convert the zone column to a categorical variable.\n",
    "# This is done so that the zone column is not used as a numerical variable.\n",
    "data_1 = reorder_columns(add_energy(add_time_differences(data_1)))\n",
    "data_2 = reorder_columns(add_energy(add_time_differences(data_2)))\n",
    "df = reorder_columns(add_energy(add_time_differences(df)))\n",
    "df['zone'] = df['zone'].astype('category')\n"
   ]
  },
  {
   "attachments": {},
   "cell_type": "markdown",
   "metadata": {},
   "source": [
    "## Write data to disk"
   ]
  },
  {
   "cell_type": "code",
   "execution_count": null,
   "metadata": {},
   "outputs": [],
   "source": [
    "# Save the zones into seperate files, so they can be compared to the original files.\n",
    "data_1.to_csv('data/data_1.csv', index=False)\n",
    "data_2.to_csv('data/data_2.csv', index=False)\n",
    "df.to_csv('data/data.csv', index=False)\n"
   ]
  },
  {
   "attachments": {},
   "cell_type": "markdown",
   "metadata": {},
   "source": [
    "## Visualization\n",
    "### Scatter"
   ]
  },
  {
   "cell_type": "code",
   "execution_count": null,
   "metadata": {
    "ExecuteTime": {
     "end_time": "2023-04-21T12:52:25.503320Z",
     "start_time": "2023-04-21T12:52:24.698791Z"
    },
    "collapsed": false
   },
   "outputs": [],
   "source": [
    "for col in ['m', 'v', 'e']:\n",
    "    scatter_plot(df, col)\n",
    "scatter_plot(df, 'e', c='m', colorbar=True)\n",
    "plt.show()\n"
   ]
  },
  {
   "attachments": {},
   "cell_type": "markdown",
   "metadata": {},
   "source": [
    "### Histogram"
   ]
  },
  {
   "cell_type": "code",
   "execution_count": null,
   "metadata": {
    "ExecuteTime": {
     "end_time": "2023-04-21T09:31:40.539939Z",
     "start_time": "2023-04-21T09:31:39.610131Z"
    },
    "collapsed": false
   },
   "outputs": [],
   "source": [
    "for col in ['m', 'v', 'e']:\n",
    "    for zone in [1, 2]:\n",
    "        plot_histogram(df[df['zone'] == zone], col, zone)\n"
   ]
  },
  {
   "cell_type": "markdown",
   "metadata": {
    "ExecuteTime": {
     "end_time": "2023-04-20T16:20:30.266989Z",
     "start_time": "2023-04-20T16:20:03.291171Z"
    },
    "collapsed": false
   },
   "source": [
    "# Fit Distributions"
   ]
  },
  {
   "cell_type": "code",
   "execution_count": null,
   "metadata": {
    "ExecuteTime": {
     "end_time": "2023-04-21T12:53:24.011894Z",
     "start_time": "2023-04-21T12:52:29.130268Z"
    },
    "collapsed": false
   },
   "outputs": [],
   "source": [
    "show_best_distribution(df[df['zone'] == 1]['time_differences'].dropna().values)\n"
   ]
  },
  {
   "cell_type": "code",
   "execution_count": null,
   "metadata": {
    "ExecuteTime": {
     "end_time": "2023-04-21T12:56:18.645604Z",
     "start_time": "2023-04-21T12:55:00.776821Z"
    },
    "collapsed": false
   },
   "outputs": [],
   "source": [
    "show_best_distribution(df[df['zone'] == 2]['time_differences'].dropna().values)\n"
   ]
  },
  {
   "cell_type": "code",
   "execution_count": null,
   "metadata": {
    "ExecuteTime": {
     "end_time": "2023-04-21T12:57:25.901565Z",
     "start_time": "2023-04-21T12:56:18.713355Z"
    },
    "collapsed": false
   },
   "outputs": [],
   "source": [
    "show_best_distribution(df[df['zone'] == 1]['m'].dropna().values)\n"
   ]
  },
  {
   "cell_type": "code",
   "execution_count": null,
   "metadata": {
    "ExecuteTime": {
     "end_time": "2023-04-21T09:59:58.423830Z",
     "start_time": "2023-04-21T09:59:52.994223Z"
    },
    "collapsed": false
   },
   "outputs": [],
   "source": [
    "show_best_distribution(df[df['zone'] == 2]['m'].dropna().values)\n"
   ]
  },
  {
   "cell_type": "code",
   "execution_count": null,
   "metadata": {
    "ExecuteTime": {
     "end_time": "2023-04-21T10:00:03.642272Z",
     "start_time": "2023-04-21T09:59:58.502875Z"
    },
    "collapsed": false
   },
   "outputs": [],
   "source": [
    "show_best_distribution(df[df['zone'] == 1]['v'].dropna().values)\n"
   ]
  },
  {
   "cell_type": "code",
   "execution_count": null,
   "metadata": {
    "ExecuteTime": {
     "end_time": "2023-04-21T10:00:08.749876Z",
     "start_time": "2023-04-21T10:00:03.731129Z"
    },
    "collapsed": false
   },
   "outputs": [],
   "source": [
    "show_best_distribution(df[df['zone'] == 2]['v'].dropna().values)\n"
   ]
  },
  {
   "cell_type": "code",
   "execution_count": null,
   "metadata": {
    "ExecuteTime": {
     "end_time": "2023-04-21T12:50:46.613626Z",
     "start_time": "2023-04-21T12:50:46.594853Z"
    },
    "collapsed": false
   },
   "outputs": [],
   "source": [
    "show_best_distribution(df[df['zone'] == 1]['e'].dropna().values)\n"
   ]
  },
  {
   "cell_type": "code",
   "execution_count": null,
   "metadata": {
    "collapsed": false
   },
   "outputs": [],
   "source": [
    "show_best_distribution(df[df['zone'] == 2]['e'].dropna().values)\n"
   ]
  },
  {
   "cell_type": "code",
   "execution_count": null,
   "metadata": {
    "collapsed": false
   },
   "outputs": [],
   "source": []
  }
 ],
 "metadata": {
  "kernelspec": {
   "display_name": "Python 3",
   "language": "python",
   "name": "python3"
  },
  "language_info": {
   "codemirror_mode": {
    "name": "ipython",
    "version": 3
   },
   "file_extension": ".py",
   "mimetype": "text/x-python",
   "name": "python",
   "nbconvert_exporter": "python",
   "pygments_lexer": "ipython3",
   "version": "3.11.2"
  }
 },
 "nbformat": 4,
 "nbformat_minor": 0
}
