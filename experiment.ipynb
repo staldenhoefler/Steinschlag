{
 "cells": [
  {
   "cell_type": "code",
   "execution_count": null,
   "metadata": {},
   "outputs": [],
   "source": [
    "import pandas as pd\n",
    "import os\n",
    "import matplotlib.pyplot as plt\n",
    "import seaborn as sns\n",
    "import numpy as np\n",
    "import scipy.stats as ss\n",
    "from scipy.stats import  expon, norm, gamma, beta, lognorm\n",
    "from scipy.stats._continuous_distns import beta_gen, gamma_gen\n",
    "from scipy import stats\n",
    "from datetime import datetime, timedelta"
   ]
  },
  {
   "cell_type": "code",
   "execution_count": null,
   "metadata": {},
   "outputs": [],
   "source": [
    "zone1 = pd.read_csv('data/out_1.csv', usecols=[\"Datum\", \"Uhrzeit\", \"Masse [kg]\", \"Geschwindigkeit [m/s]\"])\n",
    "zone1.columns = [\"date\", \"time\", \"kg\", \"m/s\"]\n",
    "zone1 = zone1.dropna(how='all')\n",
    "zone1['kj'] = 0.5 * zone1['kg'] * (zone1['m/s']**2) /1000\n",
    "zone1['datetime'] = pd.to_datetime(zone1['date'] + ' ' + zone1['time'])\n",
    "zone1['timediv h'] = (zone1['datetime'] - zone1['datetime'].shift()).fillna(pd.Timedelta(seconds=0))\n",
    "zone1['timediv h'] = zone1['timediv h'].apply(lambda x: int(round(x.total_seconds() / 3600)))\n",
    "zone1.loc[0, 'timediv h'] = zone1['timediv h'].median()\n"
   ]
  },
  {
   "cell_type": "code",
   "execution_count": null,
   "metadata": {},
   "outputs": [],
   "source": [
    "zone2 = pd.read_csv('data/out_2.csv', usecols=[\"Date\", \"Uhrzeit\", \"m [kg]\", \"v [m/s]\"])\n",
    "zone2.columns = [\"date\", \"time\", \"kg\", \"m/s\"]\n",
    "zone2 = zone2.dropna(how='all')\n",
    "zone2.loc[zone2['kg'] == 0.0, 'kg'] = zone2['kg'].median()\n",
    "zone2['kj'] = 0.5 * zone2['kg'] * (zone2['m/s']**2) /1000\n",
    "zone2['datetime'] = pd.to_datetime(zone2['date'] + ' ' + zone2['time'])\n",
    "zone2['timediv h'] = (zone2['datetime'] - zone2['datetime'].shift()).fillna(pd.Timedelta(seconds=0))\n",
    "zone2['timediv h'] = zone2['timediv h'].apply(lambda x: int(round(x.total_seconds() / 3600)))\n",
    "zone2.loc[0, 'timediv h'] = zone2['timediv h'].median()"
   ]
  },
  {
   "cell_type": "code",
   "execution_count": null,
   "metadata": {},
   "outputs": [],
   "source": [
    "distributions = [norm, lognorm, expon, gamma, beta]\n",
    "bounds = [(0, 10000), (-100, 100)]\n",
    "res = ss.fit(ss.norm, zone1['kg'], bounds)\n",
    "res.plot()\n",
    "plt.show()\n"
   ]
  },
  {
   "cell_type": "code",
   "execution_count": null,
   "metadata": {},
   "outputs": [],
   "source": [
    "x = np.linspace(zone1['kg'].min(), zone1['kg'].max(), 1000)\n",
    "\n",
    "plt.hist(zone1['kg'], bins=50, density=True, cumulative=True, alpha=0.5)\n",
    "plt.xlabel('kg')\n",
    "plt.ylabel('Cumulative Probability')\n",
    "plt.show()"
   ]
  },
  {
   "cell_type": "code",
   "execution_count": null,
   "metadata": {},
   "outputs": [],
   "source": [
    "def plot_fit(data):\n",
    "    \n",
    "    distributions = [ss.norm, ss.lognorm, ss.expon, ss.gamma]\n",
    "\n",
    "\n",
    "    # Plot the CDF of the data and the fitted distribution\n",
    "    plt.hist(data, bins=len(data), density=True, cumulative=True, alpha=0.5, label='Data')\n",
    "    x = np.linspace(data.min(), data.max(), 1000)\n",
    "    \n",
    "    for dist in distributions:\n",
    "        params = dist.fit(data)\n",
    "        plt.plot(x, dist(*params).cdf(x), label='Fitted distribution')\n",
    "        plt.xlabel(data.name)\n",
    "        plt.ylabel('Cumulative probability')\n",
    "        plt.legend()\n",
    "    \n",
    "    plt.show()\n",
    "    \n",
    "plot_fit(zone1['kg'])"
   ]
  },
  {
   "cell_type": "code",
   "execution_count": null,
   "metadata": {},
   "outputs": [],
   "source": [
    "\n",
    "def plot_fit(data, dists=[ss.norm, ss.expon, ss.lognorm, ss.gamma]):\n",
    "\n",
    "    fit_results = pd.DataFrame(columns=['distribution', 'params', 'log-likelihood'])\n",
    "\n",
    "    # Fit each distribution to the data\n",
    "    for dist in dists:\n",
    "        params = dist.fit(data)\n",
    "        loglik = np.sum(dist.logpdf(data, *params))\n",
    "        fit_results = fit_results.append({\n",
    "            'distribution': dist.__name__,\n",
    "            'params': params,\n",
    "            'log-likelihood': loglik\n",
    "        }, ignore_index=True)\n",
    "\n",
    "    # Sort the results by log-likelihood\n",
    "    fit_results = fit_results.sort_values('log-likelihood', ascending=False)\n",
    "\n",
    "    # Plot the CDF of the data and the fitted distributions\n",
    "    fig, ax = plt.subplots(figsize=(8, 5))\n",
    "    ax.hist(data, bins=50, density=True, cumulative=True, alpha=0.5, label='Data')\n",
    "    x = np.linspace(data.min(), data.max(), 1000)\n",
    "    for i, row in fit_results.iterrows():\n",
    "        dist = getattr(ss, row['distribution'])\n",
    "        ax.plot(x, dist(*row['params']).cdf(x), label=row['distribution'])\n",
    "    ax.set_xlabel('kg')\n",
    "    ax.set_ylabel('Cumulative probability')\n",
    "    ax.legend()\n",
    "    plt.show()\n",
    "\n",
    "    return fit_results\n"
   ]
  }
 ],
 "metadata": {
  "kernelspec": {
   "display_name": "steinschlag-t3PavukW",
   "language": "python",
   "name": "python3"
  },
  "language_info": {
   "codemirror_mode": {
    "name": "ipython",
    "version": 3
   },
   "file_extension": ".py",
   "mimetype": "text/x-python",
   "name": "python",
   "nbconvert_exporter": "python",
   "pygments_lexer": "ipython3",
   "version": "3.10.9"
  },
  "orig_nbformat": 4
 },
 "nbformat": 4,
 "nbformat_minor": 2
}
