{
 "cells": [
  {
   "cell_type": "code",
   "execution_count": null,
   "metadata": {},
   "outputs": [],
   "source": [
    "import pandas as pd\n",
    "import os\n",
    "import matplotlib.pyplot as plt\n",
    "import seaborn as sns\n",
    "import numpy as np\n",
    "import scipy.stats as ss\n",
    "import helpers\n",
    "from scipy.stats import  expon, norm, gamma, beta, lognorm\n",
    "from scipy.stats._continuous_distns import beta_gen, gamma_gen\n",
    "import scipy.stats as ss\n",
    "from datetime import datetime, timedelta"
   ]
  },
  {
   "cell_type": "code",
   "execution_count": null,
   "metadata": {},
   "outputs": [],
   "source": [
    "zone1 = pd.read_csv('data/clean_1.csv')\n",
    "zone2 = pd.read_csv('data/clean_2.csv')"
   ]
  },
  {
   "cell_type": "code",
   "execution_count": null,
   "metadata": {},
   "outputs": [],
   "source": [
    "def distribution_scores(data):\n",
    "    # Define candidate distributions\n",
    "    dist_names = [norm, lognorm, expon, gamma]\n",
    "\n",
    "    # Set up initial best parameters and likelihoods\n",
    "    best_dist = None\n",
    "    best_params = {}\n",
    "    best_ll = 1_000_000\n",
    "\n",
    "    # Set up a dictionary to store the log-likelihoods of each distribution\n",
    "    ll_dict = {}\n",
    "\n",
    "    # Iterate through candidate distributions and find the best fit\n",
    "    for dist_name in dist_names:\n",
    "        # Fit the distribution to the data using MLE\n",
    "        params = dist_name.fit(data)\n",
    "\n",
    "        # Get the negative log-likelihood of the data under the distribution\n",
    "        ll = -dist_name.logpdf(data, *params).sum()\n",
    "\n",
    "        # If the fit is better than the current best, update the best fit\n",
    "        if ll < best_ll:\n",
    "            best_dist = dist_name\n",
    "            best_params = params\n",
    "            best_ll = ll\n",
    "\n",
    "        # Store the log-likelihood of the fit for this distribution\n",
    "        ll_dict[dist_name] = ll\n",
    "\n",
    "    # Sort the distributions by the log-likelihood of their fit\n",
    "    sorted_dists = sorted(ll_dict, key=ll_dict.get)\n",
    "\n",
    "    # Generate a list of strings describing the fit of each distribution\n",
    "    dist_strings = []\n",
    "    for dist_name in sorted_dists:\n",
    "        dist_strings.append(f'{dist_name.name}  score: {ll_dict[dist_name]}')\n",
    "\n",
    "    # Return the best distribution, its parameters, and the list of distribution fit strings\n",
    "    return dist_strings\n",
    "\n",
    "def cdf_fit(data):\n",
    "    \n",
    "    distributions = [ss.norm, ss.lognorm, ss.expon, ss.gamma]\n",
    "\n",
    "\n",
    "    # Plot the CDF of the data and the fitted distributions\n",
    "    plt.hist(data, bins=len(data), density=True, cumulative=True, alpha=0.5, label='Data')\n",
    "    x = np.linspace(data.min(), data.max()*1.2, 100)\n",
    "    \n",
    "    for dist in distributions:\n",
    "        params = dist.fit(data)\n",
    "        ll = -dist.logpdf(data, *params).sum().round(0)\n",
    "        plt.plot(x, dist(*params).cdf(x), label=f'{dist.name}, score: {ll}')\n",
    "        plt.xlabel(data.name)\n",
    "        plt.ylabel('Cumulative probability')\n",
    "        plt.legend()\n",
    "    \n",
    "    plt.show()"
   ]
  },
  {
   "cell_type": "code",
   "execution_count": null,
   "metadata": {},
   "outputs": [],
   "source": [
    "cdf_fit(zone1['kg'])"
   ]
  },
  {
   "cell_type": "code",
   "execution_count": null,
   "metadata": {},
   "outputs": [],
   "source": [
    "cdf_fit(zone2['kg'])"
   ]
  },
  {
   "cell_type": "code",
   "execution_count": null,
   "metadata": {},
   "outputs": [],
   "source": [
    "cdf_fit(zone1['m/s'])"
   ]
  },
  {
   "cell_type": "code",
   "execution_count": null,
   "metadata": {},
   "outputs": [],
   "source": [
    "cdf_fit(zone2['m/s'])"
   ]
  },
  {
   "cell_type": "code",
   "execution_count": null,
   "metadata": {},
   "outputs": [],
   "source": [
    "cdf_fit(zone1['timediv h'])"
   ]
  },
  {
   "cell_type": "code",
   "execution_count": null,
   "metadata": {},
   "outputs": [],
   "source": [
    "cdf_fit(zone2['timediv h'])"
   ]
  },
  {
   "cell_type": "code",
   "execution_count": null,
   "metadata": {},
   "outputs": [],
   "source": [
    "\n",
    "# Plot some data\n",
    "x = [1, 2, 3, 4, 5]\n",
    "y = [1, 2, 3, 4, 5]\n",
    "plt.plot(x, y)\n",
    "\n",
    "# Add text underneath the plot\n",
    "plt.text(2, -1, \"This is some text\", ha='center', fontsize=12)\n",
    "\n",
    "# Show the plot\n",
    "plt.show()\n"
   ]
  },
  {
   "cell_type": "code",
   "execution_count": null,
   "metadata": {},
   "outputs": [],
   "source": []
  }
 ],
 "metadata": {
  "kernelspec": {
   "display_name": "steinschlag-t3PavukW",
   "language": "python",
   "name": "python3"
  },
  "language_info": {
   "codemirror_mode": {
    "name": "ipython",
    "version": 3
   },
   "file_extension": ".py",
   "mimetype": "text/x-python",
   "name": "python",
   "nbconvert_exporter": "python",
   "pygments_lexer": "ipython3",
   "version": "3.10.9"
  },
  "orig_nbformat": 4
 },
 "nbformat": 4,
 "nbformat_minor": 2
}
