{
 "cells": [
  {
   "cell_type": "code",
   "execution_count": 345,
   "metadata": {},
   "outputs": [],
   "source": [
    "import pandas as pd\n",
    "import os\n",
    "import matplotlib.pyplot as plt\n",
    "import seaborn as sns\n",
    "import numpy as np\n",
    "from scipy.stats import  expon, norm, gamma, beta, lognorm\n",
    "from scipy.stats._continuous_distns import beta_gen, gamma_gen\n",
    "from scipy import stats\n",
    "from datetime import datetime"
   ]
  },
  {
   "cell_type": "code",
   "execution_count": 320,
   "metadata": {},
   "outputs": [],
   "source": [
    "zone1 = pd.read_csv('data\\out_1.csv', usecols=[\"Datum\", \"Uhrzeit\", \"Masse [kg]\", \"Geschwindigkeit [m/s]\"])\n",
    "zone2 = pd.read_csv('data\\out_2.csv', usecols=[\"Date\", \"Uhrzeit\", \"m [kg]\", \"v [m/s]\"])\n",
    "zone1.columns = [\"date\", \"time\", \"kg\", \"m/s\"]\n",
    "zone2.columns = [\"date\", \"time\", \"kg\", \"m/s\"]"
   ]
  },
  {
   "cell_type": "code",
   "execution_count": 321,
   "metadata": {},
   "outputs": [
    {
     "data": {
      "text/html": [
       "<div>\n",
       "<style scoped>\n",
       "    .dataframe tbody tr th:only-of-type {\n",
       "        vertical-align: middle;\n",
       "    }\n",
       "\n",
       "    .dataframe tbody tr th {\n",
       "        vertical-align: top;\n",
       "    }\n",
       "\n",
       "    .dataframe thead tr th {\n",
       "        text-align: left;\n",
       "    }\n",
       "</style>\n",
       "<table border=\"1\" class=\"dataframe\">\n",
       "  <thead>\n",
       "    <tr>\n",
       "      <th></th>\n",
       "      <th colspan=\"2\" halign=\"left\">zone1</th>\n",
       "      <th colspan=\"2\" halign=\"left\">zone2</th>\n",
       "    </tr>\n",
       "    <tr>\n",
       "      <th></th>\n",
       "      <th>kg</th>\n",
       "      <th>m/s</th>\n",
       "      <th>kg</th>\n",
       "      <th>m/s</th>\n",
       "    </tr>\n",
       "  </thead>\n",
       "  <tbody>\n",
       "    <tr>\n",
       "      <th>count</th>\n",
       "      <td>68.000000</td>\n",
       "      <td>68.000000</td>\n",
       "      <td>32.000000</td>\n",
       "      <td>32.000000</td>\n",
       "    </tr>\n",
       "    <tr>\n",
       "      <th>mean</th>\n",
       "      <td>628.632353</td>\n",
       "      <td>8.788235</td>\n",
       "      <td>99.250000</td>\n",
       "      <td>37.790625</td>\n",
       "    </tr>\n",
       "    <tr>\n",
       "      <th>std</th>\n",
       "      <td>695.884703</td>\n",
       "      <td>1.989189</td>\n",
       "      <td>104.072555</td>\n",
       "      <td>5.395778</td>\n",
       "    </tr>\n",
       "    <tr>\n",
       "      <th>min</th>\n",
       "      <td>12.000000</td>\n",
       "      <td>3.600000</td>\n",
       "      <td>0.000000</td>\n",
       "      <td>24.900000</td>\n",
       "    </tr>\n",
       "    <tr>\n",
       "      <th>25%</th>\n",
       "      <td>214.750000</td>\n",
       "      <td>7.300000</td>\n",
       "      <td>36.750000</td>\n",
       "      <td>33.200000</td>\n",
       "    </tr>\n",
       "    <tr>\n",
       "      <th>50%</th>\n",
       "      <td>402.500000</td>\n",
       "      <td>8.800000</td>\n",
       "      <td>58.000000</td>\n",
       "      <td>38.750000</td>\n",
       "    </tr>\n",
       "    <tr>\n",
       "      <th>75%</th>\n",
       "      <td>773.000000</td>\n",
       "      <td>10.125000</td>\n",
       "      <td>140.000000</td>\n",
       "      <td>41.725000</td>\n",
       "    </tr>\n",
       "    <tr>\n",
       "      <th>max</th>\n",
       "      <td>3104.000000</td>\n",
       "      <td>14.100000</td>\n",
       "      <td>406.000000</td>\n",
       "      <td>46.500000</td>\n",
       "    </tr>\n",
       "  </tbody>\n",
       "</table>\n",
       "</div>"
      ],
      "text/plain": [
       "             zone1                  zone2           \n",
       "                kg        m/s          kg        m/s\n",
       "count    68.000000  68.000000   32.000000  32.000000\n",
       "mean    628.632353   8.788235   99.250000  37.790625\n",
       "std     695.884703   1.989189  104.072555   5.395778\n",
       "min      12.000000   3.600000    0.000000  24.900000\n",
       "25%     214.750000   7.300000   36.750000  33.200000\n",
       "50%     402.500000   8.800000   58.000000  38.750000\n",
       "75%     773.000000  10.125000  140.000000  41.725000\n",
       "max    3104.000000  14.100000  406.000000  46.500000"
      ]
     },
     "execution_count": 321,
     "metadata": {},
     "output_type": "execute_result"
    }
   ],
   "source": [
    "pd.concat([zone1, zone2], axis=1, keys=['zone1', 'zone2']).describe()"
   ]
  },
  {
   "cell_type": "code",
   "execution_count": 322,
   "metadata": {},
   "outputs": [
    {
     "data": {
      "text/html": [
       "<div>\n",
       "<style scoped>\n",
       "    .dataframe tbody tr th:only-of-type {\n",
       "        vertical-align: middle;\n",
       "    }\n",
       "\n",
       "    .dataframe tbody tr th {\n",
       "        vertical-align: top;\n",
       "    }\n",
       "\n",
       "    .dataframe thead th {\n",
       "        text-align: right;\n",
       "    }\n",
       "</style>\n",
       "<table border=\"1\" class=\"dataframe\">\n",
       "  <thead>\n",
       "    <tr style=\"text-align: right;\">\n",
       "      <th></th>\n",
       "      <th>date</th>\n",
       "      <th>time</th>\n",
       "      <th>kg</th>\n",
       "      <th>m/s</th>\n",
       "    </tr>\n",
       "  </thead>\n",
       "  <tbody>\n",
       "    <tr>\n",
       "      <th>0</th>\n",
       "      <td>2019-01-01</td>\n",
       "      <td>09:00</td>\n",
       "      <td>194.0</td>\n",
       "      <td>8.4</td>\n",
       "    </tr>\n",
       "    <tr>\n",
       "      <th>1</th>\n",
       "      <td>2019-01-01</td>\n",
       "      <td>21:00</td>\n",
       "      <td>224.0</td>\n",
       "      <td>8.8</td>\n",
       "    </tr>\n",
       "    <tr>\n",
       "      <th>2</th>\n",
       "      <td>2019-01-02</td>\n",
       "      <td>14:00</td>\n",
       "      <td>3104.0</td>\n",
       "      <td>9.2</td>\n",
       "    </tr>\n",
       "    <tr>\n",
       "      <th>3</th>\n",
       "      <td>2019-01-04</td>\n",
       "      <td>15:00</td>\n",
       "      <td>228.0</td>\n",
       "      <td>8.0</td>\n",
       "    </tr>\n",
       "    <tr>\n",
       "      <th>4</th>\n",
       "      <td>2019-01-05</td>\n",
       "      <td>23:00</td>\n",
       "      <td>755.0</td>\n",
       "      <td>7.0</td>\n",
       "    </tr>\n",
       "  </tbody>\n",
       "</table>\n",
       "</div>"
      ],
      "text/plain": [
       "         date   time      kg  m/s\n",
       "0  2019-01-01  09:00   194.0  8.4\n",
       "1  2019-01-01  21:00   224.0  8.8\n",
       "2  2019-01-02  14:00  3104.0  9.2\n",
       "3  2019-01-04  15:00   228.0  8.0\n",
       "4  2019-01-05  23:00   755.0  7.0"
      ]
     },
     "execution_count": 322,
     "metadata": {},
     "output_type": "execute_result"
    }
   ],
   "source": [
    "zone1.head()"
   ]
  },
  {
   "cell_type": "code",
   "execution_count": 323,
   "metadata": {},
   "outputs": [
    {
     "name": "stdout",
     "output_type": "stream",
     "text": [
      "date    11\n",
      "time    11\n",
      "kg      11\n",
      "m/s     11\n",
      "dtype: int64\n",
      "date    0\n",
      "time    0\n",
      "kg      0\n",
      "m/s     0\n",
      "dtype: int64\n"
     ]
    }
   ],
   "source": [
    "# Check for NaN values\n",
    "print(zone1.isna().sum())\n",
    "\n",
    "# Check for zeros\n",
    "print(zone1.eq(0).sum())"
   ]
  },
  {
   "cell_type": "code",
   "execution_count": 324,
   "metadata": {},
   "outputs": [],
   "source": [
    "zone1 = zone1.dropna(how='all')"
   ]
  },
  {
   "cell_type": "code",
   "execution_count": 325,
   "metadata": {},
   "outputs": [
    {
     "data": {
      "text/html": [
       "<div>\n",
       "<style scoped>\n",
       "    .dataframe tbody tr th:only-of-type {\n",
       "        vertical-align: middle;\n",
       "    }\n",
       "\n",
       "    .dataframe tbody tr th {\n",
       "        vertical-align: top;\n",
       "    }\n",
       "\n",
       "    .dataframe thead th {\n",
       "        text-align: right;\n",
       "    }\n",
       "</style>\n",
       "<table border=\"1\" class=\"dataframe\">\n",
       "  <thead>\n",
       "    <tr style=\"text-align: right;\">\n",
       "      <th></th>\n",
       "      <th>date</th>\n",
       "      <th>time</th>\n",
       "      <th>kg</th>\n",
       "      <th>m/s</th>\n",
       "    </tr>\n",
       "  </thead>\n",
       "  <tbody>\n",
       "    <tr>\n",
       "      <th>0</th>\n",
       "      <td>2019-01-01</td>\n",
       "      <td>09:00</td>\n",
       "      <td>38.0</td>\n",
       "      <td>45.4</td>\n",
       "    </tr>\n",
       "    <tr>\n",
       "      <th>1</th>\n",
       "      <td>2019-01-03</td>\n",
       "      <td>06:00</td>\n",
       "      <td>187.0</td>\n",
       "      <td>41.6</td>\n",
       "    </tr>\n",
       "    <tr>\n",
       "      <th>2</th>\n",
       "      <td>2019-01-04</td>\n",
       "      <td>10:00</td>\n",
       "      <td>36.0</td>\n",
       "      <td>44.6</td>\n",
       "    </tr>\n",
       "    <tr>\n",
       "      <th>3</th>\n",
       "      <td>2019-01-07</td>\n",
       "      <td>14:00</td>\n",
       "      <td>6.0</td>\n",
       "      <td>41.2</td>\n",
       "    </tr>\n",
       "    <tr>\n",
       "      <th>4</th>\n",
       "      <td>2019-01-11</td>\n",
       "      <td>06:00</td>\n",
       "      <td>65.0</td>\n",
       "      <td>39.6</td>\n",
       "    </tr>\n",
       "  </tbody>\n",
       "</table>\n",
       "</div>"
      ],
      "text/plain": [
       "         date   time     kg   m/s\n",
       "0  2019-01-01  09:00   38.0  45.4\n",
       "1  2019-01-03  06:00  187.0  41.6\n",
       "2  2019-01-04  10:00   36.0  44.6\n",
       "3  2019-01-07  14:00    6.0  41.2\n",
       "4  2019-01-11  06:00   65.0  39.6"
      ]
     },
     "execution_count": 325,
     "metadata": {},
     "output_type": "execute_result"
    }
   ],
   "source": [
    "zone2.head()\n"
   ]
  },
  {
   "cell_type": "code",
   "execution_count": 326,
   "metadata": {},
   "outputs": [
    {
     "name": "stdout",
     "output_type": "stream",
     "text": [
      "date    3\n",
      "time    3\n",
      "kg      3\n",
      "m/s     3\n",
      "dtype: int64\n",
      "date    0\n",
      "time    0\n",
      "kg      1\n",
      "m/s     0\n",
      "dtype: int64\n"
     ]
    }
   ],
   "source": [
    "# Check for NaN values\n",
    "print(zone2.isna().sum())\n",
    "\n",
    "# Check for zeros\n",
    "print(zone2.eq(0).sum())"
   ]
  },
  {
   "cell_type": "code",
   "execution_count": 327,
   "metadata": {},
   "outputs": [],
   "source": [
    "zone2 = zone2.dropna(how='all')\n",
    "\n",
    "# Set the value to the median in the row where 'kg' equals 0.0\n",
    "zone2.loc[zone2['kg'] == 0.0, 'kg'] = zone2['kg'].median()\n"
   ]
  },
  {
   "cell_type": "code",
   "execution_count": 328,
   "metadata": {},
   "outputs": [
    {
     "data": {
      "text/html": [
       "<div>\n",
       "<style scoped>\n",
       "    .dataframe tbody tr th:only-of-type {\n",
       "        vertical-align: middle;\n",
       "    }\n",
       "\n",
       "    .dataframe tbody tr th {\n",
       "        vertical-align: top;\n",
       "    }\n",
       "\n",
       "    .dataframe thead tr th {\n",
       "        text-align: left;\n",
       "    }\n",
       "</style>\n",
       "<table border=\"1\" class=\"dataframe\">\n",
       "  <thead>\n",
       "    <tr>\n",
       "      <th></th>\n",
       "      <th colspan=\"2\" halign=\"left\">zone1</th>\n",
       "      <th colspan=\"2\" halign=\"left\">zone2</th>\n",
       "    </tr>\n",
       "    <tr>\n",
       "      <th></th>\n",
       "      <th>kg</th>\n",
       "      <th>m/s</th>\n",
       "      <th>kg</th>\n",
       "      <th>m/s</th>\n",
       "    </tr>\n",
       "  </thead>\n",
       "  <tbody>\n",
       "    <tr>\n",
       "      <th>count</th>\n",
       "      <td>68.000000</td>\n",
       "      <td>68.000000</td>\n",
       "      <td>32.000000</td>\n",
       "      <td>32.000000</td>\n",
       "    </tr>\n",
       "    <tr>\n",
       "      <th>mean</th>\n",
       "      <td>628.632353</td>\n",
       "      <td>8.788235</td>\n",
       "      <td>101.062500</td>\n",
       "      <td>37.790625</td>\n",
       "    </tr>\n",
       "    <tr>\n",
       "      <th>std</th>\n",
       "      <td>695.884703</td>\n",
       "      <td>1.989189</td>\n",
       "      <td>102.785382</td>\n",
       "      <td>5.395778</td>\n",
       "    </tr>\n",
       "    <tr>\n",
       "      <th>min</th>\n",
       "      <td>12.000000</td>\n",
       "      <td>3.600000</td>\n",
       "      <td>3.000000</td>\n",
       "      <td>24.900000</td>\n",
       "    </tr>\n",
       "    <tr>\n",
       "      <th>25%</th>\n",
       "      <td>214.750000</td>\n",
       "      <td>7.300000</td>\n",
       "      <td>37.750000</td>\n",
       "      <td>33.200000</td>\n",
       "    </tr>\n",
       "    <tr>\n",
       "      <th>50%</th>\n",
       "      <td>402.500000</td>\n",
       "      <td>8.800000</td>\n",
       "      <td>58.000000</td>\n",
       "      <td>38.750000</td>\n",
       "    </tr>\n",
       "    <tr>\n",
       "      <th>75%</th>\n",
       "      <td>773.000000</td>\n",
       "      <td>10.125000</td>\n",
       "      <td>140.000000</td>\n",
       "      <td>41.725000</td>\n",
       "    </tr>\n",
       "    <tr>\n",
       "      <th>max</th>\n",
       "      <td>3104.000000</td>\n",
       "      <td>14.100000</td>\n",
       "      <td>406.000000</td>\n",
       "      <td>46.500000</td>\n",
       "    </tr>\n",
       "  </tbody>\n",
       "</table>\n",
       "</div>"
      ],
      "text/plain": [
       "             zone1                  zone2           \n",
       "                kg        m/s          kg        m/s\n",
       "count    68.000000  68.000000   32.000000  32.000000\n",
       "mean    628.632353   8.788235  101.062500  37.790625\n",
       "std     695.884703   1.989189  102.785382   5.395778\n",
       "min      12.000000   3.600000    3.000000  24.900000\n",
       "25%     214.750000   7.300000   37.750000  33.200000\n",
       "50%     402.500000   8.800000   58.000000  38.750000\n",
       "75%     773.000000  10.125000  140.000000  41.725000\n",
       "max    3104.000000  14.100000  406.000000  46.500000"
      ]
     },
     "execution_count": 328,
     "metadata": {},
     "output_type": "execute_result"
    }
   ],
   "source": [
    "pd.concat([zone1, zone2], axis=1, keys=['zone1', 'zone2']).describe()"
   ]
  },
  {
   "cell_type": "code",
   "execution_count": 329,
   "metadata": {},
   "outputs": [
    {
     "data": {
      "image/png": "[encoded data removed]",
      "text/plain": [
       "<Figure size 640x480 with 1 Axes>"
      ]
     },
     "metadata": {},
     "output_type": "display_data"
    }
   ],
   "source": [
    "zone1.plot(x='kg', y='m/s', kind='scatter', c='red', label='zone1')\n",
    "plt.show()"
   ]
  },
  {
   "cell_type": "code",
   "execution_count": 330,
   "metadata": {},
   "outputs": [
    {
     "data": {
      "image/png": "[encoded data removed]",
      "text/plain": [
       "<Figure size 640x480 with 1 Axes>"
      ]
     },
     "metadata": {},
     "output_type": "display_data"
    }
   ],
   "source": [
    "zone2.plot(x='kg', y='m/s', kind='scatter', c='blue', label='zone1')\n",
    "plt.show()"
   ]
  },
  {
   "cell_type": "code",
   "execution_count": 331,
   "metadata": {},
   "outputs": [
    {
     "data": {
      "image/png": "[encoded data removed]",
      "text/plain": [
       "<Figure size 640x480 with 1 Axes>"
      ]
     },
     "metadata": {},
     "output_type": "display_data"
    }
   ],
   "source": [
    "fig, ax = plt.subplots()\n",
    "ax.scatter(zone1['kg'], zone1['m/s'], c='red', label='zone1')\n",
    "ax.scatter(zone2['kg'], zone2['m/s'], c='blue', label='zone2')\n",
    "ax.legend()\n",
    "ax.axes.set_xlabel('m [kg]')\n",
    "ax.axes.set_ylabel('v [m/s]')\n",
    "plt.show()"
   ]
  },
  {
   "attachments": {},
   "cell_type": "markdown",
   "metadata": {},
   "source": [
    "Zonen 1 und 2 sollten nicht gemischt werden, weil sonst sehr schwere steine generiert werden könnten die eine hohe Geschwindigkeit haben, was in den Aufzeichnungen aber nicht vorkomt."
   ]
  },
  {
   "cell_type": "code",
   "execution_count": 332,
   "metadata": {},
   "outputs": [],
   "source": [
    "zone1['kj'] = 0.5 * zone1['kg'] * (zone1['m/s']**2) /1000\n",
    "zone2['kj'] = 0.5 * zone2['kg'] * (zone2['m/s']**2) /1000"
   ]
  },
  {
   "cell_type": "code",
   "execution_count": 333,
   "metadata": {},
   "outputs": [
    {
     "name": "stdout",
     "output_type": "stream",
     "text": [
      "          date   time      kg  m/s          kj            datetime  timediv h\n",
      "0   2019-01-01  09:00   194.0  8.4    6.844320 2019-01-01 09:00:00          0\n",
      "1   2019-01-01  21:00   224.0  8.8    8.673280 2019-01-01 21:00:00         12\n",
      "2   2019-01-02  14:00  3104.0  9.2  131.361280 2019-01-02 14:00:00         17\n",
      "3   2019-01-04  15:00   228.0  8.0    7.296000 2019-01-04 15:00:00         49\n",
      "4   2019-01-05  23:00   755.0  7.0   18.497500 2019-01-05 23:00:00         32\n",
      "..         ...    ...     ...  ...         ...                 ...        ...\n",
      "63  2019-03-18  16:00   167.0  8.9    6.614035 2019-03-18 16:00:00         28\n",
      "64  2019-03-22  18:00  2847.0  7.0   69.751500 2019-03-22 18:00:00         98\n",
      "65  2019-03-26  00:00    44.0  8.9    1.742620 2019-03-26 00:00:00         78\n",
      "66  2019-03-26  06:00    45.0  8.4    1.587600 2019-03-26 06:00:00          6\n",
      "67  2019-03-27  16:00   312.0  5.8    5.247840 2019-03-27 16:00:00         34\n",
      "\n",
      "[68 rows x 7 columns]\n"
     ]
    }
   ],
   "source": [
    "# Convert the 'date' and 'time' columns to datetime\n",
    "zone1['datetime'] = pd.to_datetime(zone1['date'] + ' ' + zone1['time'])\n",
    "\n",
    "# Calculate the time difference between each row and the row above, in hours\n",
    "zone1['timediv h'] = (zone1['datetime'] - zone1['datetime'].shift()).fillna(pd.Timedelta(seconds=0))\n",
    "zone1['timediv h'] = zone1['timediv h'].apply(lambda x: int(round(x.total_seconds() / 3600)))\n",
    "\n",
    "# Print the updated dataframe\n",
    "print(zone1)"
   ]
  },
  {
   "cell_type": "code",
   "execution_count": 334,
   "metadata": {},
   "outputs": [
    {
     "name": "stdout",
     "output_type": "stream",
     "text": [
      "          date   time     kg   m/s          kj            datetime  timediv h\n",
      "0   2019-01-01  09:00   38.0  45.4   39.162040 2019-01-01 09:00:00          0\n",
      "1   2019-01-03  06:00  187.0  41.6  161.807360 2019-01-03 06:00:00         45\n",
      "2   2019-01-04  10:00   36.0  44.6   35.804880 2019-01-04 10:00:00         28\n",
      "3   2019-01-07  14:00    6.0  41.2    5.092320 2019-01-07 14:00:00         76\n",
      "4   2019-01-11  06:00   65.0  39.6   50.965200 2019-01-11 06:00:00         88\n",
      "5   2019-01-11  16:00   58.0  33.2   31.964960 2019-01-11 16:00:00         10\n",
      "6   2019-01-14  11:00  365.0  40.2  294.927300 2019-01-14 11:00:00         67\n",
      "7   2019-01-16  02:00   22.0  46.5   23.784750 2019-01-16 02:00:00         39\n",
      "8   2019-01-18  06:00  146.0  36.2   95.662120 2019-01-18 06:00:00         52\n",
      "9   2019-01-19  17:00   29.0  38.3   21.269905 2019-01-19 17:00:00         35\n",
      "10  2019-01-20  22:00   40.0  41.6   34.611200 2019-01-20 22:00:00         29\n",
      "11  2019-01-21  11:00  304.0  36.7  204.727280 2019-01-21 11:00:00         13\n",
      "12  2019-01-22  21:00   33.0  44.1   32.089365 2019-01-22 21:00:00         34\n",
      "13  2019-01-29  07:00   50.0  40.0   40.000000 2019-01-29 07:00:00        154\n",
      "14  2019-02-06  02:00   77.0  38.0   55.594000 2019-02-06 02:00:00        187\n",
      "15  2019-02-10  20:00   76.0  39.2   58.392320 2019-02-10 20:00:00        114\n",
      "16  2019-02-14  05:00  138.0  33.2   76.054560 2019-02-14 05:00:00         81\n",
      "17  2019-02-15  11:00  152.0  24.9   47.120760 2019-02-15 11:00:00         30\n",
      "18  2019-02-16  18:00  241.0  40.6  198.627380 2019-02-16 18:00:00         31\n",
      "19  2019-02-25  14:00   97.0  30.0   43.650000 2019-02-25 14:00:00        212\n",
      "20  2019-02-28  05:00   37.0  32.2   19.181540 2019-02-28 05:00:00         63\n",
      "21  2019-02-28  12:00   64.0  34.3   37.647680 2019-02-28 12:00:00          7\n",
      "22  2019-03-07  21:00   55.0  31.7   27.634475 2019-03-07 21:00:00        177\n",
      "23  2019-03-10  16:00   58.0  32.3   30.255410 2019-03-10 16:00:00         67\n",
      "24  2019-03-10  23:00   45.0  32.2   23.328900 2019-03-10 23:00:00          7\n",
      "25  2019-03-11  18:00  406.0  44.1  394.796430 2019-03-11 18:00:00         19\n",
      "26  2019-03-17  09:00   58.0  33.6   32.739840 2019-03-17 09:00:00        135\n",
      "27  2019-03-20  10:00   16.0  42.1   14.179280 2019-03-20 10:00:00         73\n",
      "28  2019-03-21  13:00  211.0  29.0   88.725500 2019-03-21 13:00:00         27\n",
      "29  2019-03-24  16:00    3.0  42.3    2.683935 2019-03-24 16:00:00         75\n",
      "30  2019-03-25  14:00   63.0  43.2   58.786560 2019-03-25 14:00:00         22\n",
      "31  2019-03-28  01:00   58.0  37.2   40.131360 2019-03-28 01:00:00         59\n"
     ]
    }
   ],
   "source": [
    "# Convert the 'date' and 'time' columns to datetime\n",
    "zone2['datetime'] = pd.to_datetime(zone2['date'] + ' ' + zone2['time'])\n",
    "\n",
    "# Calculate the time difference between each row and the row above, in hours\n",
    "zone2['timediv h'] = (zone2['datetime'] - zone2['datetime'].shift()).fillna(pd.Timedelta(seconds=0))\n",
    "zone2['timediv h'] = zone2['timediv h'].apply(lambda x: int(round(x.total_seconds() / 3600)))\n",
    "\n",
    "# Print the updated dataframe\n",
    "print(zone2)"
   ]
  },
  {
   "cell_type": "code",
   "execution_count": 335,
   "metadata": {},
   "outputs": [
    {
     "data": {
      "image/png": "[encoded data removed]",
      "text/plain": [
       "<Figure size 1000x500 with 2 Axes>"
      ]
     },
     "metadata": {},
     "output_type": "display_data"
    },
    {
     "data": {
      "image/png": "[encoded data removed]",
      "text/plain": [
       "<Figure size 1000x500 with 2 Axes>"
      ]
     },
     "metadata": {},
     "output_type": "display_data"
    },
    {
     "data": {
      "image/png": "[encoded data removed]",
      "text/plain": [
       "<Figure size 1000x500 with 2 Axes>"
      ]
     },
     "metadata": {},
     "output_type": "display_data"
    },
    {
     "data": {
      "image/png": "[encoded data removed]",
      "text/plain": [
       "<Figure size 1000x500 with 2 Axes>"
      ]
     },
     "metadata": {},
     "output_type": "display_data"
    }
   ],
   "source": [
    "# Plot the histograms for 'kg'\n",
    "fig, (ax1, ax2) = plt.subplots(1, 2, figsize=(10, 5))\n",
    "ax1.hist(zone1['kg'], bins=20, color='red', label='Zone 1')\n",
    "ax2.hist(zone2['kg'], bins=20, color='blue', label='Zone 2')\n",
    "\n",
    "ax1.set_xlabel('kg')\n",
    "ax1.set_ylabel('Frequency')\n",
    "ax1.legend()\n",
    "ax2.set_xlabel('kg')\n",
    "ax2.legend()\n",
    "plt.show()\n",
    "\n",
    "# Plot the histograms for 'kj'\n",
    "fig, (ax1, ax2) = plt.subplots(1, 2, figsize=(10, 5))\n",
    "ax1.hist(zone1['kj'], bins=20, color='red', label='Zone 1')\n",
    "ax2.hist(zone2['kj'], bins=20, color='blue', label='Zone 2')\n",
    "\n",
    "ax1.set_xlabel('kj')\n",
    "ax1.set_ylabel('Frequency')\n",
    "ax1.legend()\n",
    "ax2.set_xlabel('kj')\n",
    "ax2.legend()\n",
    "plt.show()\n",
    "\n",
    "# Plot the histograms for 'm/s'\n",
    "fig, (ax1, ax2) = plt.subplots(1, 2, figsize=(10, 5))\n",
    "ax1.hist(zone1['m/s'], bins=20, color='red', label='Zone 1')\n",
    "ax2.hist(zone2['m/s'], bins=20, color='blue', label='Zone 2')\n",
    "\n",
    "ax1.set_xlabel('m/s')\n",
    "ax1.set_ylabel('Frequency')\n",
    "ax1.legend()\n",
    "ax2.set_xlabel('m/s')\n",
    "ax2.legend()\n",
    "plt.show()\n",
    "\n",
    "# Plot the histograms for 'timediv h'\n",
    "fig, (ax1, ax2) = plt.subplots(1, 2, figsize=(10, 5))\n",
    "ax1.hist(zone1['timediv h'], bins=20, color='red', label='Zone 1')\n",
    "ax2.hist(zone2['timediv h'], bins=20, color='blue', label='Zone 2')\n",
    "\n",
    "ax1.set_xlabel('timediv h')\n",
    "ax1.set_ylabel('Frequency')\n",
    "ax1.legend()\n",
    "ax2.set_xlabel('timediv h')\n",
    "ax2.legend()\n",
    "plt.show()"
   ]
  },
  {
   "cell_type": "code",
   "execution_count": 336,
   "metadata": {},
   "outputs": [
    {
     "data": {
      "text/html": [
       "<div>\n",
       "<style scoped>\n",
       "    .dataframe tbody tr th:only-of-type {\n",
       "        vertical-align: middle;\n",
       "    }\n",
       "\n",
       "    .dataframe tbody tr th {\n",
       "        vertical-align: top;\n",
       "    }\n",
       "\n",
       "    .dataframe thead tr th {\n",
       "        text-align: left;\n",
       "    }\n",
       "</style>\n",
       "<table border=\"1\" class=\"dataframe\">\n",
       "  <thead>\n",
       "    <tr>\n",
       "      <th></th>\n",
       "      <th colspan=\"4\" halign=\"left\">zone1</th>\n",
       "      <th colspan=\"4\" halign=\"left\">zone2</th>\n",
       "    </tr>\n",
       "    <tr>\n",
       "      <th></th>\n",
       "      <th>kg</th>\n",
       "      <th>m/s</th>\n",
       "      <th>kj</th>\n",
       "      <th>timediv h</th>\n",
       "      <th>kg</th>\n",
       "      <th>m/s</th>\n",
       "      <th>kj</th>\n",
       "      <th>timediv h</th>\n",
       "    </tr>\n",
       "  </thead>\n",
       "  <tbody>\n",
       "    <tr>\n",
       "      <th>count</th>\n",
       "      <td>68.000000</td>\n",
       "      <td>68.000000</td>\n",
       "      <td>68.000000</td>\n",
       "      <td>68.000000</td>\n",
       "      <td>32.000000</td>\n",
       "      <td>32.000000</td>\n",
       "      <td>32.000000</td>\n",
       "      <td>32.000000</td>\n",
       "    </tr>\n",
       "    <tr>\n",
       "      <th>mean</th>\n",
       "      <td>628.632353</td>\n",
       "      <td>8.788235</td>\n",
       "      <td>25.197761</td>\n",
       "      <td>30.102941</td>\n",
       "      <td>101.062500</td>\n",
       "      <td>37.790625</td>\n",
       "      <td>72.543707</td>\n",
       "      <td>64.250000</td>\n",
       "    </tr>\n",
       "    <tr>\n",
       "      <th>std</th>\n",
       "      <td>695.884703</td>\n",
       "      <td>1.989189</td>\n",
       "      <td>32.704933</td>\n",
       "      <td>27.789260</td>\n",
       "      <td>102.785382</td>\n",
       "      <td>5.395778</td>\n",
       "      <td>87.452601</td>\n",
       "      <td>55.533193</td>\n",
       "    </tr>\n",
       "    <tr>\n",
       "      <th>min</th>\n",
       "      <td>12.000000</td>\n",
       "      <td>3.600000</td>\n",
       "      <td>0.464640</td>\n",
       "      <td>0.000000</td>\n",
       "      <td>3.000000</td>\n",
       "      <td>24.900000</td>\n",
       "      <td>2.683935</td>\n",
       "      <td>0.000000</td>\n",
       "    </tr>\n",
       "    <tr>\n",
       "      <th>25%</th>\n",
       "      <td>214.750000</td>\n",
       "      <td>7.300000</td>\n",
       "      <td>8.214900</td>\n",
       "      <td>5.750000</td>\n",
       "      <td>37.750000</td>\n",
       "      <td>33.200000</td>\n",
       "      <td>29.600176</td>\n",
       "      <td>27.750000</td>\n",
       "    </tr>\n",
       "    <tr>\n",
       "      <th>50%</th>\n",
       "      <td>402.500000</td>\n",
       "      <td>8.800000</td>\n",
       "      <td>12.815133</td>\n",
       "      <td>22.000000</td>\n",
       "      <td>58.000000</td>\n",
       "      <td>38.750000</td>\n",
       "      <td>39.581020</td>\n",
       "      <td>48.500000</td>\n",
       "    </tr>\n",
       "    <tr>\n",
       "      <th>75%</th>\n",
       "      <td>773.000000</td>\n",
       "      <td>10.125000</td>\n",
       "      <td>23.135955</td>\n",
       "      <td>49.000000</td>\n",
       "      <td>140.000000</td>\n",
       "      <td>41.725000</td>\n",
       "      <td>63.103560</td>\n",
       "      <td>77.250000</td>\n",
       "    </tr>\n",
       "    <tr>\n",
       "      <th>max</th>\n",
       "      <td>3104.000000</td>\n",
       "      <td>14.100000</td>\n",
       "      <td>164.403200</td>\n",
       "      <td>113.000000</td>\n",
       "      <td>406.000000</td>\n",
       "      <td>46.500000</td>\n",
       "      <td>394.796430</td>\n",
       "      <td>212.000000</td>\n",
       "    </tr>\n",
       "  </tbody>\n",
       "</table>\n",
       "</div>"
      ],
      "text/plain": [
       "             zone1                                          zone2             \\\n",
       "                kg        m/s          kj   timediv h          kg        m/s   \n",
       "count    68.000000  68.000000   68.000000   68.000000   32.000000  32.000000   \n",
       "mean    628.632353   8.788235   25.197761   30.102941  101.062500  37.790625   \n",
       "std     695.884703   1.989189   32.704933   27.789260  102.785382   5.395778   \n",
       "min      12.000000   3.600000    0.464640    0.000000    3.000000  24.900000   \n",
       "25%     214.750000   7.300000    8.214900    5.750000   37.750000  33.200000   \n",
       "50%     402.500000   8.800000   12.815133   22.000000   58.000000  38.750000   \n",
       "75%     773.000000  10.125000   23.135955   49.000000  140.000000  41.725000   \n",
       "max    3104.000000  14.100000  164.403200  113.000000  406.000000  46.500000   \n",
       "\n",
       "                               \n",
       "               kj   timediv h  \n",
       "count   32.000000   32.000000  \n",
       "mean    72.543707   64.250000  \n",
       "std     87.452601   55.533193  \n",
       "min      2.683935    0.000000  \n",
       "25%     29.600176   27.750000  \n",
       "50%     39.581020   48.500000  \n",
       "75%     63.103560   77.250000  \n",
       "max    394.796430  212.000000  "
      ]
     },
     "execution_count": 336,
     "metadata": {},
     "output_type": "execute_result"
    }
   ],
   "source": [
    "pd.concat([zone1, zone2], axis=1, keys=['zone1', 'zone2']).describe()"
   ]
  },
  {
   "cell_type": "code",
   "execution_count": 337,
   "metadata": {},
   "outputs": [],
   "source": [
    "def fit_best_distribution(data):\n",
    "    # Define candidate distributions\n",
    "    dist_names = [norm, lognorm, expon, gamma, beta]\n",
    "\n",
    "    # Set up initial best parameters and likelihoods\n",
    "    best_dist = None\n",
    "    best_params = {}\n",
    "    best_ll = np.inf\n",
    "\n",
    "    # Set up a dictionary to store the log-likelihoods of each distribution\n",
    "    ll_dict = {}\n",
    "\n",
    "    # Iterate through candidate distributions and find the best fit\n",
    "    for dist_name in dist_names:\n",
    "        # Get the distribution object from scipy.stats\n",
    "        #dist = getattr(scipy.stats, dist_name)\n",
    "\n",
    "        # Fit the distribution to the data using MLE\n",
    "        params = dist_name.fit(data)\n",
    "\n",
    "        # Get the negative log-likelihood of the data under the distribution\n",
    "        ll = -dist_name.logpdf(data, *params).sum()\n",
    "\n",
    "        # If the fit is better than the current best, update the best fit\n",
    "        if ll < best_ll:\n",
    "            best_dist = dist_name\n",
    "            best_params = params\n",
    "            best_ll = ll\n",
    "\n",
    "        # Store the log-likelihood of the fit for this distribution\n",
    "        ll_dict[dist_name] = ll\n",
    "\n",
    "    # Sort the distributions by the log-likelihood of their fit\n",
    "    sorted_dists = sorted(ll_dict, key=ll_dict.get)\n",
    "\n",
    "    # Generate a list of strings describing the fit of each distribution\n",
    "    dist_strings = []\n",
    "    for dist_name in sorted_dists:\n",
    "        if dist_name == best_dist:\n",
    "            dist_strings.append(f'{dist_name} (best fit): {ll_dict[dist_name]}')\n",
    "        else:\n",
    "            dist_strings.append(f'{dist_name}: {ll_dict[dist_name]}')\n",
    "\n",
    "    # Return the list of distribution fit strings\n",
    "    return dist_strings"
   ]
  },
  {
   "cell_type": "code",
   "execution_count": 338,
   "metadata": {},
   "outputs": [
    {
     "name": "stderr",
     "output_type": "stream",
     "text": [
      "c:\\Users\\bwuermli\\.virtualenvs\\steinschlag-t3PavukW\\lib\\site-packages\\scipy\\stats\\_continuous_distns.py:709: RuntimeWarning: invalid value encountered in sqrt\n",
      "  sk = 2*(b-a)*np.sqrt(a + b + 1) / (a + b + 2) / np.sqrt(a*b)\n"
     ]
    },
    {
     "data": {
      "text/plain": [
       "['<scipy.stats._continuous_distns.beta_gen object at 0x00000235A9D41FC0> (best fit): 499.3901307039264',\n",
       " '<scipy.stats._continuous_distns.gamma_gen object at 0x00000235A9D72140>: 499.5812348983543',\n",
       " '<scipy.stats._continuous_distns.expon_gen object at 0x00000235A9D439D0>: 504.85056291042986',\n",
       " '<scipy.stats._continuous_distns.norm_gen object at 0x00000235A9D41A50>: 541.0566186379025',\n",
       " '<scipy.stats._continuous_distns.lognorm_gen object at 0x00000235A9D95510>: 588.3569472194833']"
      ]
     },
     "execution_count": 338,
     "metadata": {},
     "output_type": "execute_result"
    }
   ],
   "source": [
    "fit_best_distribution(zone1['kg'])\n"
   ]
  },
  {
   "cell_type": "code",
   "execution_count": 339,
   "metadata": {},
   "outputs": [
    {
     "data": {
      "text/plain": [
       "['<scipy.stats._continuous_distns.beta_gen object at 0x00000235A9D41FC0> (best fit): 165.71971224753088',\n",
       " '<scipy.stats._continuous_distns.gamma_gen object at 0x00000235A9D72140>: 176.68199068732446',\n",
       " '<scipy.stats._continuous_distns.expon_gen object at 0x00000235A9D439D0>: 178.73936097578405',\n",
       " '<scipy.stats._continuous_distns.norm_gen object at 0x00000235A9D41A50>: 193.14263439814778',\n",
       " '<scipy.stats._continuous_distns.lognorm_gen object at 0x00000235A9D95510>: 202.06737324513256']"
      ]
     },
     "execution_count": 339,
     "metadata": {},
     "output_type": "execute_result"
    }
   ],
   "source": [
    "fit_best_distribution(zone2['kg']) "
   ]
  },
  {
   "cell_type": "code",
   "execution_count": 340,
   "metadata": {},
   "outputs": [
    {
     "name": "stderr",
     "output_type": "stream",
     "text": [
      "c:\\Users\\bwuermli\\.virtualenvs\\steinschlag-t3PavukW\\lib\\site-packages\\scipy\\optimize\\_minpack_py.py:178: RuntimeWarning: The iteration is not making good progress, as measured by the \n",
      "  improvement from the last ten iterations.\n",
      "  warnings.warn(msg, RuntimeWarning)\n"
     ]
    },
    {
     "data": {
      "text/plain": [
       "['<scipy.stats._continuous_distns.beta_gen object at 0x00000235A9D41FC0> (best fit): 142.69904585100392',\n",
       " '<scipy.stats._continuous_distns.norm_gen object at 0x00000235A9D41A50>: 142.74955808496244',\n",
       " '<scipy.stats._continuous_distns.lognorm_gen object at 0x00000235A9D95510>: 142.78018376991054',\n",
       " '<scipy.stats._continuous_distns.gamma_gen object at 0x00000235A9D72140>: 142.86369403078356',\n",
       " '<scipy.stats._continuous_distns.expon_gen object at 0x00000235A9D439D0>: 179.954766089044']"
      ]
     },
     "execution_count": 340,
     "metadata": {},
     "output_type": "execute_result"
    }
   ],
   "source": [
    "fit_best_distribution(zone1['m/s'])"
   ]
  },
  {
   "cell_type": "code",
   "execution_count": 341,
   "metadata": {},
   "outputs": [
    {
     "data": {
      "text/plain": [
       "['<scipy.stats._continuous_distns.beta_gen object at 0x00000235A9D41FC0> (best fit): 96.31472557940404',\n",
       " '<scipy.stats._continuous_distns.norm_gen object at 0x00000235A9D41A50>: 98.83779420429414',\n",
       " '<scipy.stats._continuous_distns.lognorm_gen object at 0x00000235A9D95510>: 98.8778261365616',\n",
       " '<scipy.stats._continuous_distns.gamma_gen object at 0x00000235A9D72140>: 99.08821513055173',\n",
       " '<scipy.stats._continuous_distns.expon_gen object at 0x00000235A9D439D0>: 113.8080096952003']"
      ]
     },
     "execution_count": 341,
     "metadata": {},
     "output_type": "execute_result"
    }
   ],
   "source": [
    "fit_best_distribution(zone2['m/s'])"
   ]
  },
  {
   "cell_type": "code",
   "execution_count": 342,
   "metadata": {},
   "outputs": [
    {
     "data": {
      "text/plain": [
       "['<scipy.stats._continuous_distns.beta_gen object at 0x00000235A9D41FC0> (best fit): 230.94813671087834',\n",
       " '<scipy.stats._continuous_distns.gamma_gen object at 0x00000235A9D72140>: 236.6973062597185',\n",
       " '<scipy.stats._continuous_distns.lognorm_gen object at 0x00000235A9D95510>: 291.30271716803963',\n",
       " '<scipy.stats._continuous_distns.expon_gen object at 0x00000235A9D439D0>: 299.51435587299244',\n",
       " '<scipy.stats._continuous_distns.norm_gen object at 0x00000235A9D41A50>: 322.06028138695456']"
      ]
     },
     "execution_count": 342,
     "metadata": {},
     "output_type": "execute_result"
    }
   ],
   "source": [
    "fit_best_distribution(zone1['timediv h'])"
   ]
  },
  {
   "cell_type": "code",
   "execution_count": 343,
   "metadata": {},
   "outputs": [
    {
     "data": {
      "text/plain": [
       "['<scipy.stats._continuous_distns.beta_gen object at 0x00000235A9D41FC0> (best fit): 230.94813671087834',\n",
       " '<scipy.stats._continuous_distns.gamma_gen object at 0x00000235A9D72140>: 236.6973062597185',\n",
       " '<scipy.stats._continuous_distns.lognorm_gen object at 0x00000235A9D95510>: 291.30271716803963',\n",
       " '<scipy.stats._continuous_distns.expon_gen object at 0x00000235A9D439D0>: 299.51435587299244',\n",
       " '<scipy.stats._continuous_distns.norm_gen object at 0x00000235A9D41A50>: 322.06028138695456']"
      ]
     },
     "execution_count": 343,
     "metadata": {},
     "output_type": "execute_result"
    }
   ],
   "source": [
    "fit_best_distribution(zone1['timediv h'])"
   ]
  },
  {
   "cell_type": "code",
   "execution_count": 344,
   "metadata": {},
   "outputs": [
    {
     "ename": "TypeError",
     "evalue": "gamma_gen.fit() missing 1 required positional argument: 'data'",
     "output_type": "error",
     "traceback": [
      "\u001b[1;31m---------------------------------------------------------------------------\u001b[0m",
      "\u001b[1;31mTypeError\u001b[0m                                 Traceback (most recent call last)",
      "Cell \u001b[1;32mIn[344], line 33\u001b[0m\n\u001b[0;32m     29\u001b[0m     \u001b[39mreturn\u001b[39;00m simulated_df\n\u001b[0;32m     32\u001b[0m \u001b[39m# Generate simulated dataframes\u001b[39;00m\n\u001b[1;32m---> 33\u001b[0m simulated1 \u001b[39m=\u001b[39m generate_simulated_data(zone1, \u001b[39m1\u001b[39;49m)\n\u001b[0;32m     34\u001b[0m simulated2 \u001b[39m=\u001b[39m generate_simulated_data(zone2, \u001b[39m1\u001b[39m)\n\u001b[0;32m     35\u001b[0m simulated1\n",
      "Cell \u001b[1;32mIn[344], line 10\u001b[0m, in \u001b[0;36mgenerate_simulated_data\u001b[1;34m(zone_df, num_years)\u001b[0m\n\u001b[0;32m      7\u001b[0m timediv_mean \u001b[39m=\u001b[39m zone_df[\u001b[39m'\u001b[39m\u001b[39mtimediv h\u001b[39m\u001b[39m'\u001b[39m]\u001b[39m.\u001b[39mmean()\n\u001b[0;32m      9\u001b[0m \u001b[39m# Calculate  the deviation\u001b[39;00m\n\u001b[1;32m---> 10\u001b[0m timediv_shape, timediv_loc, timediv_scale \u001b[39m=\u001b[39m gamma_gen\u001b[39m.\u001b[39;49mfit(zone_df[\u001b[39m'\u001b[39;49m\u001b[39mtimediv h\u001b[39;49m\u001b[39m'\u001b[39;49m], floc\u001b[39m=\u001b[39;49m\u001b[39m0\u001b[39;49m, fscale\u001b[39m=\u001b[39;49m\u001b[39m1\u001b[39;49m)\n\u001b[0;32m     11\u001b[0m kg_shape, kg_loc, kg_scale \u001b[39m=\u001b[39m beta_gen\u001b[39m.\u001b[39mfit(zone_df[\u001b[39m'\u001b[39m\u001b[39mkg\u001b[39m\u001b[39m'\u001b[39m], floc\u001b[39m=\u001b[39m\u001b[39m0\u001b[39m, fscale\u001b[39m=\u001b[39m\u001b[39m1\u001b[39m)\n\u001b[0;32m     12\u001b[0m ms_mean, ms_std \u001b[39m=\u001b[39m zone_df[\u001b[39m'\u001b[39m\u001b[39mm/s\u001b[39m\u001b[39m'\u001b[39m]\u001b[39m.\u001b[39mmean(), zone_df[\u001b[39m'\u001b[39m\u001b[39mm/s\u001b[39m\u001b[39m'\u001b[39m]\u001b[39m.\u001b[39mstd()\n",
      "\u001b[1;31mTypeError\u001b[0m: gamma_gen.fit() missing 1 required positional argument: 'data'"
     ]
    }
   ],
   "source": [
    "# to simulate a dataframe for the next 100 years i will estimate the number of events it takes and generate a frame \n",
    "\n",
    "\n",
    "\n",
    "def generate_simulated_data(zone_df, num_years=100):\n",
    "    \n",
    "    timediv_mean = zone_df['timediv h'].mean()\n",
    "    \n",
    "    # Calculate  the deviation\n",
    "    timediv_shape, timediv_loc, timediv_scale = gamma_gen.fit(zone_df['timediv h'], floc=0, fscale=1)\n",
    "    kg_shape, kg_loc, kg_scale = beta_gen.fit(zone_df['kg'], floc=0, fscale=1)\n",
    "    ms_mean, ms_std = zone_df['m/s'].mean(), zone_df['m/s'].std()\n",
    "\n",
    "    # Calculate number of observations for 100 years\n",
    "    total_hours = num_years * 365.25 * 24\n",
    "    num_observations = int(total_hours / timediv_mean)\n",
    "    \n",
    "    # Set the starting datetime to January 1st, 2000, 00:00:00\n",
    "    current_datetime = datetime(2000, 1, 1, 0, 0, 0)\n",
    "\n",
    "    # Initialize the new dataframe and generate the data\n",
    "    simulated_df = pd.DataFrame(index=range(num_observations))\n",
    "    simulated_df['timediv h'] = beta_gen(timediv_shape, timediv_loc, timediv_scale).rvs(size=num_observations)\n",
    "    simulated_df['m/s'] = norm(ms_mean, ms_std).rvs(size=num_observations)\n",
    "    simulated_df['kg'] = beta_gen(kg_shape, kg_loc, kg_scale).rvs(size=num_observations)\n",
    "\n",
    "    # Generate the simulated data\n",
    "    \n",
    "    return simulated_df\n",
    "\n",
    "\n",
    "# Generate simulated dataframes\n",
    "simulated1 = generate_simulated_data(zone1, 1)\n",
    "simulated2 = generate_simulated_data(zone2, 1)\n",
    "simulated1"
   ]
  },
  {
   "cell_type": "code",
   "execution_count": null,
   "metadata": {},
   "outputs": [],
   "source": [
    "simulated2 = generate_simulated_data(zone2, 1)\n"
   ]
  },
  {
   "cell_type": "code",
   "execution_count": null,
   "metadata": {},
   "outputs": [],
   "source": [
    "simulated1.head()"
   ]
  },
  {
   "cell_type": "code",
   "execution_count": null,
   "metadata": {},
   "outputs": [],
   "source": [
    "\n",
    "# Initialize an empty dataframe with 100 rows\n",
    "df = pd.DataFrame(index=range(100))\n",
    "\n",
    "# Print the resulting dataframe\n",
    "print(df)"
   ]
  }
 ],
 "metadata": {
  "kernelspec": {
   "display_name": "steinschlag-t3PavukW",
   "language": "python",
   "name": "python3"
  },
  "language_info": {
   "codemirror_mode": {
    "name": "ipython",
    "version": 3
   },
   "file_extension": ".py",
   "mimetype": "text/x-python",
   "name": "python",
   "nbconvert_exporter": "python",
   "pygments_lexer": "ipython3",
   "version": "3.10.9"
  },
  "orig_nbformat": 4
 },
 "nbformat": 4,
 "nbformat_minor": 2
}
