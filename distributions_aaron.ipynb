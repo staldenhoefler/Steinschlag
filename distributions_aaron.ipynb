{
 "cells": [
  {
   "attachments": {},
   "cell_type": "markdown",
   "metadata": {
    "collapsed": false
   },
   "source": [
    "# EDA"
   ]
  },
  {
   "cell_type": "code",
   "execution_count": null,
   "metadata": {
    "ExecuteTime": {
     "end_time": "2023-04-21T12:52:24.193086Z",
     "start_time": "2023-04-21T12:52:23.042033Z"
    },
    "collapsed": true
   },
   "outputs": [],
   "source": [
    "import matplotlib.dates as mdates\n",
    "import matplotlib.pyplot as plt\n",
    "import pandas as pd\n",
    "from fitter import Fitter\n",
    "import numpy as np\n",
    "from pprint import pprint\n",
    "from functions import (\n",
    "    read_data,\n",
    "    add_time_differences,\n",
    "    add_energy,\n",
    "    reorder_columns,\n",
    "    scatter_plot,\n",
    "    plot_histogram,\n",
    "    best_distributions,\n",
    "    print_fit,\n",
    ")"
   ]
  },
  {
   "cell_type": "code",
   "execution_count": null,
   "metadata": {},
   "outputs": [],
   "source": [
    "data_1 = read_data(\"data/out_1.csv\")\n",
    "data_1[\"zone\"] = 1\n",
    "data_2 = read_data(\"data/out_2.csv\")\n",
    "data_2[\"zone\"] = 2\n",
    "# join the two dataframes and sort by date\n",
    "df = pd.concat([data_1, data_2]).sort_values(by=[\"date\"])"
   ]
  },
  {
   "cell_type": "code",
   "execution_count": null,
   "metadata": {},
   "outputs": [],
   "source": [
    "# summarize the data\n",
    "print(df.describe())"
   ]
  },
  {
   "attachments": {},
   "cell_type": "markdown",
   "metadata": {},
   "source": [
    "## NAs, Zeros and Empty Strings"
   ]
  },
  {
   "cell_type": "code",
   "execution_count": null,
   "metadata": {},
   "outputs": [],
   "source": [
    "na_count = df.isna().sum()\n",
    "zero_count = (df == 0).sum()\n",
    "empty_string_count = (df == \"\").sum()\n",
    "\n",
    "print(\"Number of NAs in each column:\")\n",
    "print(na_count)\n",
    "print(\"\\nNumber of zeros in each column:\")\n",
    "print(zero_count)\n",
    "print(\"\\nNumber of empty strings in each column:\")\n",
    "print(empty_string_count)"
   ]
  },
  {
   "cell_type": "code",
   "execution_count": null,
   "metadata": {},
   "outputs": [],
   "source": [
    "# summarize column 'm' for each zone\n",
    "print(\"\\n\", df.groupby(\"zone\")[\"m\"].describe())\n",
    "\n",
    "# replace zeros with median of the same zone\n",
    "df[\"m\"] = df.groupby(\"zone\")[\"m\"].transform(lambda x: x.replace(0, x.median()))\n",
    "\n",
    "# summarize column 'm' for each zone\n",
    "print(\"\\n\", df.groupby(\"zone\")[\"m\"].describe())"
   ]
  },
  {
   "attachments": {},
   "cell_type": "markdown",
   "metadata": {
    "collapsed": false
   },
   "source": [
    "## Time Differences and Energy"
   ]
  },
  {
   "cell_type": "code",
   "execution_count": null,
   "metadata": {
    "ExecuteTime": {
     "end_time": "2023-04-21T12:52:24.250343Z",
     "start_time": "2023-04-21T12:52:24.205904Z"
    },
    "collapsed": false
   },
   "outputs": [],
   "source": [
    "# Add time differences and energy to the dataframes and reorder the columns.\n",
    "# Also convert the zone column to a categorical variable.\n",
    "# This is done so that the zone column is not used as a numerical variable.\n",
    "df = reorder_columns(add_energy(add_time_differences(df)))\n",
    "df[\"zone\"] = df[\"zone\"].astype(\"category\")"
   ]
  },
  {
   "attachments": {},
   "cell_type": "markdown",
   "metadata": {},
   "source": [
    "## Write data to disk"
   ]
  },
  {
   "cell_type": "code",
   "execution_count": null,
   "metadata": {},
   "outputs": [],
   "source": [
    "# Save the zones into seperate files, so they can be compared to the original files.\n",
    "df.to_csv(\"data/data.csv\", index=False)"
   ]
  },
  {
   "attachments": {},
   "cell_type": "markdown",
   "metadata": {},
   "source": [
    "## Visualization\n",
    "### Scatter"
   ]
  },
  {
   "cell_type": "code",
   "execution_count": null,
   "metadata": {
    "ExecuteTime": {
     "end_time": "2023-04-21T12:52:25.503320Z",
     "start_time": "2023-04-21T12:52:24.698791Z"
    },
    "collapsed": false
   },
   "outputs": [],
   "source": [
    "for col in [\"m\", \"v\", \"e\"]:\n",
    "    scatter_plot(df, col)\n",
    "scatter_plot(df, \"e\", c=\"m\", colorbar=True)\n",
    "plt.show()"
   ]
  },
  {
   "attachments": {},
   "cell_type": "markdown",
   "metadata": {},
   "source": [
    "### Histogram"
   ]
  },
  {
   "cell_type": "code",
   "execution_count": null,
   "metadata": {
    "ExecuteTime": {
     "end_time": "2023-04-21T09:31:40.539939Z",
     "start_time": "2023-04-21T09:31:39.610131Z"
    },
    "collapsed": false
   },
   "outputs": [],
   "source": [
    "for col in [\"m\", \"v\", \"e\"]:\n",
    "    for zone in [1, 2]:\n",
    "        plot_histogram(df[df[\"zone\"] == zone], col, zone)"
   ]
  },
  {
   "attachments": {},
   "cell_type": "markdown",
   "metadata": {
    "ExecuteTime": {
     "end_time": "2023-04-20T16:20:30.266989Z",
     "start_time": "2023-04-20T16:20:03.291171Z"
    },
    "collapsed": false
   },
   "source": [
    "# Fit Distributions"
   ]
  },
  {
   "cell_type": "code",
   "execution_count": null,
   "metadata": {},
   "outputs": [],
   "source": [
    "fit = best_distributions(df)"
   ]
  },
  {
   "attachments": {},
   "cell_type": "markdown",
   "metadata": {},
   "source": [
    "# Mass Prediction"
   ]
  },
  {
   "cell_type": "code",
   "execution_count": null,
   "metadata": {},
   "outputs": [],
   "source": [
    "print_fit(fit, 1, \"m\")"
   ]
  },
  {
   "cell_type": "code",
   "execution_count": null,
   "metadata": {},
   "outputs": [],
   "source": [
    "print_fit(fit, 2, \"m\")"
   ]
  },
  {
   "cell_type": "code",
   "execution_count": null,
   "metadata": {},
   "outputs": [],
   "source": [
    "print_fit(fit, 1, \"v\")"
   ]
  },
  {
   "cell_type": "code",
   "execution_count": null,
   "metadata": {},
   "outputs": [],
   "source": [
    "print_fit(fit, 2, \"v\")"
   ]
  },
  {
   "cell_type": "code",
   "execution_count": null,
   "metadata": {},
   "outputs": [],
   "source": [
    "print_fit(fit, 1, \"e\")"
   ]
  },
  {
   "cell_type": "code",
   "execution_count": null,
   "metadata": {},
   "outputs": [],
   "source": [
    "print_fit(fit, 2, \"e\")"
   ]
  },
  {
   "cell_type": "code",
   "execution_count": null,
   "metadata": {},
   "outputs": [],
   "source": [
    "print_fit(fit, 1, \"time_differences\")"
   ]
  },
  {
   "cell_type": "code",
   "execution_count": null,
   "metadata": {},
   "outputs": [],
   "source": [
    "print_fit(fit, 2, \"time_differences\")"
   ]
  }
 ],
 "metadata": {
  "kernelspec": {
   "display_name": "Python 3",
   "language": "python",
   "name": "python3"
  },
  "language_info": {
   "codemirror_mode": {
    "name": "ipython",
    "version": 3
   },
   "file_extension": ".py",
   "mimetype": "text/x-python",
   "name": "python",
   "nbconvert_exporter": "python",
   "pygments_lexer": "ipython3",
   "version": "3.11.2"
  }
 },
 "nbformat": 4,
 "nbformat_minor": 0
}
